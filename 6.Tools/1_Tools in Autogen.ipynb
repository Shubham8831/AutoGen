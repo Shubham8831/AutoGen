{
 "cells": [
  {
   "cell_type": "markdown",
   "id": "1b1ce15c",
   "metadata": {},
   "source": [
    "## Tools in AutoGen\n",
    "\n",
    "Tools are functions that let agents do specific tasks.\n",
    "\n",
    "- Calculator\n",
    "- Mobile (Apps)"
   ]
  },
  {
   "cell_type": "code",
   "execution_count": null,
   "id": "ef553ee4",
   "metadata": {},
   "outputs": [],
   "source": [
    "from autogen_core.tools import FunctionTool  # custom funtion tool\n",
    "from autogen_agentchat.agents import AssistantAgent"
   ]
  },
  {
   "cell_type": "code",
   "execution_count": null,
   "id": "00878f3f",
   "metadata": {},
   "outputs": [],
   "source": [
    "def celsius_to_fahrenheit(celsius:float) -> float:\n",
    "    '''\n",
    "    Convert Celsius temp to Fahrenheit temp.\n",
    "\n",
    "    input:\n",
    "    celsius : float\n",
    "\n",
    "    output\n",
    "    temperature in fahrenhiet : float\n",
    "    '''\n",
    "    return (celsius * 9/5) + 32\n",
    "\n",
    "agent = AssistantAgent(\n",
    "    name='temp_agent',\n",
    "    model_client=model_client,\n",
    "    tools=[FunctionTool(celsius_to_fahrenheit)]\n",
    ")"
   ]
  },
  {
   "cell_type": "markdown",
   "id": "5bf1251d",
   "metadata": {},
   "source": [
    "## 1. Custom Function Tools - Your own apps\n",
    "## 2. Inbuilt Tools ( Default Apps of our Phone) - SMS\n",
    "## 3. Third Party Tools - Whatsapp , Youtube "
   ]
  },
  {
   "cell_type": "markdown",
   "id": "1ea2cff8",
   "metadata": {},
   "source": [
    "## LangChainToolAdapter for using LangChain tools. **(to use all the langchian tool)**"
   ]
  }
 ],
 "metadata": {
  "kernelspec": {
   "display_name": "venv",
   "language": "python",
   "name": "python3"
  },
  "language_info": {
   "codemirror_mode": {
    "name": "ipython",
    "version": 3
   },
   "file_extension": ".py",
   "mimetype": "text/x-python",
   "name": "python",
   "nbconvert_exporter": "python",
   "pygments_lexer": "ipython3",
   "version": "3.10.9"
  }
 },
 "nbformat": 4,
 "nbformat_minor": 5
}
