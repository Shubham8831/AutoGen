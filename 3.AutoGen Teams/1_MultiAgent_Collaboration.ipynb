{
 "cells": [
  {
   "cell_type": "markdown",
   "id": "ed662296",
   "metadata": {},
   "source": [
    "## MultiAgent System\n",
    "#### is a team that work together to achive a common goal"
   ]
  },
  {
   "cell_type": "code",
   "execution_count": 2,
   "id": "67e37f75",
   "metadata": {},
   "outputs": [],
   "source": [
    "import asyncio\n",
    "from autogen_agentchat.agents import AssistantAgent\n",
    "from autogen_ext.models.openai import OpenAIChatCompletionClient\n",
    "from autogen_agentchat.messages import TextMessage\n",
    "from dotenv import load_dotenv\n",
    "load_dotenv()\n",
    "import os\n",
    "\n",
    "key = os.getenv(\"Groq_api_key\")"
   ]
  },
  {
   "cell_type": "code",
   "execution_count": 3,
   "id": "b23c5340",
   "metadata": {},
   "outputs": [
    {
     "name": "stderr",
     "output_type": "stream",
     "text": [
      "c:\\Users\\shubu\\Desktop\\AutoGen Hardcode\\venv\\lib\\site-packages\\autogen_ext\\models\\openai\\_openai_client.py:413: UserWarning: Missing required field 'structured_output' in ModelInfo. This field will be required in a future version of AutoGen.\n",
      "  validate_model_info(self._model_info)\n"
     ]
    }
   ],
   "source": [
    "model_client =  OpenAIChatCompletionClient(\n",
    "    base_url=\"https://api.groq.com/openai/v1\",\n",
    "    model=\"llama-3.3-70b-versatile\",\n",
    "    api_key = key,\n",
    "    model_info={\n",
    "        \"family\":'llama',\n",
    "        \"vision\" :False,\n",
    "        \"function_calling\":True,\n",
    "        \"json_output\": True\n",
    "    }\n",
    ")"
   ]
  },
  {
   "cell_type": "code",
   "execution_count": 4,
   "id": "5e593a7c",
   "metadata": {},
   "outputs": [],
   "source": [
    "single_story_agent = AssistantAgent(\n",
    "    name=\"story_agent1\",\n",
    "    model_client=model_client,\n",
    "    system_message=\"you are a creative write. generate a story on dog and a boy\"\n",
    ")"
   ]
  },
  {
   "cell_type": "markdown",
   "id": "42c30ca6",
   "metadata": {},
   "source": [
    "### Single agent approach to create a short story"
   ]
  },
  {
   "cell_type": "code",
   "execution_count": 6,
   "id": "7d0f00f7",
   "metadata": {},
   "outputs": [
    {
     "name": "stdout",
     "output_type": "stream",
     "text": [
      "**The Unbreakable Bond**\n",
      "\n",
      "In a small village surrounded by rolling hills and lush green forests, there lived a young boy named Max. Max was a shy and introverted 10-year-old who had just moved to the village with his family. He found it difficult to make friends in his new school, and the loneliness was starting to get to him.\n",
      "\n",
      "One day, while exploring the village, Max stumbled upon a small, adorable dog wandering around the streets. The dog was a golden retriever with a fluffy coat and big brown eyes that seemed to melt Max's heart. The dog was dirty and hungry, and Max could sense that it had been abandoned.\n",
      "\n",
      "Without hesitation, Max decided to take the dog home and care for it. He named the dog Duke and quickly fell in love with his new companion. As the days went by, Max and Duke became inseparable. They would spend hours exploring the woods, playing fetch, and cuddling up by the fireplace.\n",
      "\n",
      "As Max spent more time with Duke, he began to open up and feel more confident. Duke's friendly and outgoing nature rubbed off on Max, and he started to make friends in school. The kids in his class were drawn to Duke's charming personality, and soon, Max found himself surrounded by a group of friends who shared his love for dogs.\n",
      "\n",
      "As the months passed, Max and Duke's bond grew stronger. They went on adventures together, discovering hidden streams and secret meadows. Duke would always be by Max's side, providing comfort and companionship whenever he needed it. Max's parents were delighted to see their son happy and thriving, and they credited Duke for bringing out the best in him.\n",
      "\n",
      "One fateful day, a severe storm hit the village, bringing heavy rain and strong winds. Max's family was forced to evacuate their home, and in the chaos, Duke got separated from them. Max was devastated, and his parents tried to reassure him that they would find Duke soon.\n",
      "\n",
      "But Max was determined to find his beloved dog. He braved the storm, calling out Duke's name and searching every nook and cranny. The wind and rain pounded against him, but he refused to give up. Just when he thought all hope was lost, he heard a faint barking sound coming from a nearby shed.\n",
      "\n",
      "Max rushed towards the shed and found Duke shivering with fear. He scooped up his dog and held him tight, tears of joy streaming down his face. Together, they weathered the storm, and when it passed, they returned home to a warm and cozy fireplace.\n",
      "\n",
      "From that day on, Max and Duke's friendship deepened. They faced many more challenges and adventures together, and their bond remained unbreakable. Max learned that with Duke by his side, he could overcome anything, and Duke learned that he had found a forever home with a boy who loved him unconditionally.\n",
      "\n",
      "As the years went by, Max grew up to be a confident and compassionate young man, and Duke remained his loyal companion. Their story became a legend in the village, a testament to the transformative power of friendship and love between a boy and his dog. And as they sat together on the porch, watching the sunset, Max would scratch Duke behind the ears and say, \"You're the best friend a guy could ask for, Duke.\" Duke would wag his tail and snuggle closer, knowing that he had found his forever home in Max's heart.\n"
     ]
    }
   ],
   "source": [
    "async def test_single_agent():\n",
    "    task = TextMessage(\n",
    "        content=\"write a story on a dog and boy\",\n",
    "        source='user'\n",
    "    )\n",
    "    result = await single_story_agent.run(task = task)\n",
    "    print(result.messages[-1].content)\n",
    "\n",
    "\n",
    "\n",
    "await test_single_agent()   "
   ]
  },
  {
   "cell_type": "markdown",
   "id": "bb70a945",
   "metadata": {},
   "source": [
    "### Multi agent team approach to create a story"
   ]
  },
  {
   "cell_type": "markdown",
   "id": "442ead3b",
   "metadata": {},
   "source": [
    "-  we'll use 3 agent to write it with their own mastery"
   ]
  },
  {
   "cell_type": "code",
   "execution_count": 7,
   "id": "77e32b0f",
   "metadata": {},
   "outputs": [],
   "source": [
    "plot_agent = AssistantAgent(\n",
    "    name=\"plot_agent\",\n",
    "    model_client=model_client,\n",
    "    system_message=\"you are a creative write. generate a story plot on a small dog and a small kid\"\n",
    ")\n",
    "\n",
    "character_agent = AssistantAgent(\n",
    "    name=\"character_agent\",\n",
    "    model_client=model_client,\n",
    "    system_message=\"develope character of the story. describe dog and kid in detail with their background\"\n",
    ")\n",
    "\n",
    "ending_agent = AssistantAgent(\n",
    "    name=\"ending_agent\",\n",
    "    model_client=model_client,\n",
    "    system_message=\"write engaging endings and end the story with a twist\"\n",
    ")"
   ]
  },
  {
   "cell_type": "code",
   "execution_count": 8,
   "id": "ac50459c",
   "metadata": {},
   "outputs": [
    {
     "name": "stdout",
     "output_type": "stream",
     "text": [
      "source='user' models_usage=None metadata={} content='write story about dog and boy' type='TextMessage': write story about dog and boy\n",
      "source='plot_agent' models_usage=RequestUsage(prompt_tokens=59, completion_tokens=706) metadata={} content='**The Adventures of Max and Timmy**\\n\\nIn a small, sun-kissed town surrounded by green fields and blooming flowers, there lived a little boy named Timmy. Timmy was a curious and adventurous six-year-old who loved exploring the outdoors and making new friends. One day, his parents surprised him with a special gift - a small, fluffy dog named Max.\\n\\nMax was a playful and affectionate terrier mix with a coat of soft, golden fur and a wagging tail that never seemed to stop. From the moment Timmy laid eyes on Max, he knew they would be the best of friends. As soon as Max was settled into his new home, Timmy and he set out on their first adventure together.\\n\\nTheir backyard was a magical world, full of hidden treasures and secret paths waiting to be discovered. Timmy and Max spent hours exploring the garden, chasing after butterflies, and playing hide-and-seek behind the tall trees. As they wandered, Max taught Timmy how to appreciate the little things in life - the smell of fresh-cut grass, the sound of birds singing, and the feel of warm sunlight on their faces.\\n\\nOne day, while they were out on a walk, Timmy and Max stumbled upon a small, mysterious door hidden behind a bush. The door was old and rusty, with a small keyhole in the center. Timmy\\'s curiosity was piqued, and he begged Max to help him find a way to open the door. Max, sensing Timmy\\'s excitement, barked eagerly and began to dig around the door with his paws.\\n\\nAs they searched for a key, they met a friendly squirrel named Squeaky, who offered to help them on their quest. Squeaky led them to a hidden clearing deep in the woods, where they found a small, glittering key buried beneath a pile of leaves. With the key in hand, Timmy and Max returned to the mysterious door and unlocked it, revealing a secret garden filled with the most beautiful and exotic flowers either of them had ever seen.\\n\\nThe secret garden became Timmy and Max\\'s favorite playground. They spent hours exploring the winding paths, playing with the butterflies, and having picnics beneath the shade of a giant oak tree. As they sat together, watching the sun set behind the flowers, Timmy realized that Max was more than just a pet - he was a true friend and companion, one who had brought joy and wonder into his life.\\n\\nAs the seasons passed, Timmy and Max grew even closer. They went on many more adventures together, exploring the woods, visiting the park, and making new friends along the way. And through it all, Max remained by Timmy\\'s side, a constant and loyal companion who loved and protected him with all his heart.\\n\\nOne day, when Timmy was feeling sad and lonely, Max snuggled up beside him and licked away his tears. Timmy smiled, feeling a deep sense of gratitude and love for his dear friend. \"You\\'re the best dog in the whole world, Max,\" he whispered, hugging Max tightly. Max wagged his tail and licked Timmy\\'s face, knowing that he was exactly where he belonged - by the side of his beloved boy, Timmy.\\n\\nAnd so, the adventures of Timmy and Max continued, a never-ending journey of discovery, friendship, and love, with the little dog and the little boy exploring the world together, side by side, and heart to heart.' type='TextMessage': **The Adventures of Max and Timmy**\n",
      "\n",
      "In a small, sun-kissed town surrounded by green fields and blooming flowers, there lived a little boy named Timmy. Timmy was a curious and adventurous six-year-old who loved exploring the outdoors and making new friends. One day, his parents surprised him with a special gift - a small, fluffy dog named Max.\n",
      "\n",
      "Max was a playful and affectionate terrier mix with a coat of soft, golden fur and a wagging tail that never seemed to stop. From the moment Timmy laid eyes on Max, he knew they would be the best of friends. As soon as Max was settled into his new home, Timmy and he set out on their first adventure together.\n",
      "\n",
      "Their backyard was a magical world, full of hidden treasures and secret paths waiting to be discovered. Timmy and Max spent hours exploring the garden, chasing after butterflies, and playing hide-and-seek behind the tall trees. As they wandered, Max taught Timmy how to appreciate the little things in life - the smell of fresh-cut grass, the sound of birds singing, and the feel of warm sunlight on their faces.\n",
      "\n",
      "One day, while they were out on a walk, Timmy and Max stumbled upon a small, mysterious door hidden behind a bush. The door was old and rusty, with a small keyhole in the center. Timmy's curiosity was piqued, and he begged Max to help him find a way to open the door. Max, sensing Timmy's excitement, barked eagerly and began to dig around the door with his paws.\n",
      "\n",
      "As they searched for a key, they met a friendly squirrel named Squeaky, who offered to help them on their quest. Squeaky led them to a hidden clearing deep in the woods, where they found a small, glittering key buried beneath a pile of leaves. With the key in hand, Timmy and Max returned to the mysterious door and unlocked it, revealing a secret garden filled with the most beautiful and exotic flowers either of them had ever seen.\n",
      "\n",
      "The secret garden became Timmy and Max's favorite playground. They spent hours exploring the winding paths, playing with the butterflies, and having picnics beneath the shade of a giant oak tree. As they sat together, watching the sun set behind the flowers, Timmy realized that Max was more than just a pet - he was a true friend and companion, one who had brought joy and wonder into his life.\n",
      "\n",
      "As the seasons passed, Timmy and Max grew even closer. They went on many more adventures together, exploring the woods, visiting the park, and making new friends along the way. And through it all, Max remained by Timmy's side, a constant and loyal companion who loved and protected him with all his heart.\n",
      "\n",
      "One day, when Timmy was feeling sad and lonely, Max snuggled up beside him and licked away his tears. Timmy smiled, feeling a deep sense of gratitude and love for his dear friend. \"You're the best dog in the whole world, Max,\" he whispered, hugging Max tightly. Max wagged his tail and licked Timmy's face, knowing that he was exactly where he belonged - by the side of his beloved boy, Timmy.\n",
      "\n",
      "And so, the adventures of Timmy and Max continued, a never-ending journey of discovery, friendship, and love, with the little dog and the little boy exploring the world together, side by side, and heart to heart.\n",
      "source='character_agent' models_usage=RequestUsage(prompt_tokens=767, completion_tokens=593) metadata={} content=\"**Character Development and Description**\\n\\n**Timmy:**\\n\\n* Age: 6 years old\\n* Personality: Curious, adventurous, loving, and sensitive\\n* Physical Description: Timmy has bright blue eyes, messy brown hair, and a contagious smile. He is small for his age, with a slender build and long legs that seem to go on forever. He loves to wear comfortable clothes, like t-shirts and shorts, and has a fondness for baseball caps and sneakers.\\n* Background: Timmy comes from a loving family with parents who encourage his curiosity and sense of adventure. He is an only child, which makes him cherish the companionship of his new dog, Max. Timmy is in the first grade and loves learning about the world around him. He is especially fascinated by animals, nature, and the outdoors.\\n\\n**Max:**\\n\\n* Breed: Terrier mix\\n* Age: 1-2 years old\\n* Personality: Playful, affectionate, loyal, and intelligent\\n* Physical Description: Max has a soft, golden coat with a slight wave to it. His fur is fluffy and easy to groom, and he loves to be pampered by Timmy. Max has big brown eyes that melt the hearts of everyone he meets, and his wagging tail is always a sign of excitement and joy. He is a small to medium-sized dog, with a sturdy build and a cute underbite that gives him a goofy grin.\\n* Background: Max was adopted from a shelter by Timmy's parents as a surprise gift for their son. Max was a stray dog who had been living on the streets for a while, but he quickly adjusted to his new life with Timmy and his family. Max loves the attention and affection he receives from Timmy and is fiercely loyal to his new owner.\\n\\n**Relationship between Timmy and Max:**\\n\\n* The bond between Timmy and Max is instantaneous and deep. They share a love for adventure, exploration, and play, which brings them closer together.\\n* Timmy looks up to Max as a constant companion and friend, while Max sees Timmy as his pack leader and protector.\\n* As they spend more time together, Timmy and Max develop a unique language, with Timmy learning to understand Max's barks, whines, and body language, and Max learning to respond to Timmy's commands and emotions.\\n\\n**The Adventures of Timmy and Max:**\\n\\n* The story follows the journey of Timmy and Max as they explore the world around them, face challenges, and learn valuable lessons about friendship, loyalty, and love.\\n* Through their adventures, Timmy and Max grow closer, and their bond becomes stronger. They learn to rely on each other and trust each other's instincts.\\n* The story is a heartwarming and humorous account of the special relationship between a boy and his dog, highlighting the joys and benefits of having a loyal companion by your side.\" type='TextMessage': **Character Development and Description**\n",
      "\n",
      "**Timmy:**\n",
      "\n",
      "* Age: 6 years old\n",
      "* Personality: Curious, adventurous, loving, and sensitive\n",
      "* Physical Description: Timmy has bright blue eyes, messy brown hair, and a contagious smile. He is small for his age, with a slender build and long legs that seem to go on forever. He loves to wear comfortable clothes, like t-shirts and shorts, and has a fondness for baseball caps and sneakers.\n",
      "* Background: Timmy comes from a loving family with parents who encourage his curiosity and sense of adventure. He is an only child, which makes him cherish the companionship of his new dog, Max. Timmy is in the first grade and loves learning about the world around him. He is especially fascinated by animals, nature, and the outdoors.\n",
      "\n",
      "**Max:**\n",
      "\n",
      "* Breed: Terrier mix\n",
      "* Age: 1-2 years old\n",
      "* Personality: Playful, affectionate, loyal, and intelligent\n",
      "* Physical Description: Max has a soft, golden coat with a slight wave to it. His fur is fluffy and easy to groom, and he loves to be pampered by Timmy. Max has big brown eyes that melt the hearts of everyone he meets, and his wagging tail is always a sign of excitement and joy. He is a small to medium-sized dog, with a sturdy build and a cute underbite that gives him a goofy grin.\n",
      "* Background: Max was adopted from a shelter by Timmy's parents as a surprise gift for their son. Max was a stray dog who had been living on the streets for a while, but he quickly adjusted to his new life with Timmy and his family. Max loves the attention and affection he receives from Timmy and is fiercely loyal to his new owner.\n",
      "\n",
      "**Relationship between Timmy and Max:**\n",
      "\n",
      "* The bond between Timmy and Max is instantaneous and deep. They share a love for adventure, exploration, and play, which brings them closer together.\n",
      "* Timmy looks up to Max as a constant companion and friend, while Max sees Timmy as his pack leader and protector.\n",
      "* As they spend more time together, Timmy and Max develop a unique language, with Timmy learning to understand Max's barks, whines, and body language, and Max learning to respond to Timmy's commands and emotions.\n",
      "\n",
      "**The Adventures of Timmy and Max:**\n",
      "\n",
      "* The story follows the journey of Timmy and Max as they explore the world around them, face challenges, and learn valuable lessons about friendship, loyalty, and love.\n",
      "* Through their adventures, Timmy and Max grow closer, and their bond becomes stronger. They learn to rely on each other and trust each other's instincts.\n",
      "* The story is a heartwarming and humorous account of the special relationship between a boy and his dog, highlighting the joys and benefits of having a loyal companion by your side.\n",
      "source='ending_agent' models_usage=RequestUsage(prompt_tokens=1358, completion_tokens=710) metadata={} content='**The Final Adventure: A Twist of Fate**\\n\\nAs the sun began to set on another day of adventure, Timmy and Max settled down in their favorite spot, a hill overlooking the town. They had spent the day exploring the woods, chasing after squirrels, and playing in the park. As they sat together, watching the stars begin to twinkle in the night sky, Timmy turned to Max with a curious expression.\\n\\n\"Max, do you think there\\'s more to life than just our town?\" Timmy asked, his eyes sparkling with wonder.\\n\\nMax tilted his head, as if considering the question. He let out a soft bark, and Timmy smiled, knowing that Max was trying to tell him something.\\n\\nJust then, a strange glow appeared on the horizon. The glow grew brighter and brighter, until Timmy and Max could see a magnificent spaceship descending from the sky. The ship landed softly in the field below, and a ramp extended from the side.\\n\\nA friendly alien emerged from the ship, with big, round eyes and a warm smile. \"Greetings, Timmy and Max,\" the alien said, in a voice that sounded like music. \"We have been watching you from afar, and we are impressed by your love and loyalty to each other.\"\\n\\nThe alien explained that they were on a mission to find the most special friendships in the galaxy, and they had chosen Timmy and Max as the winners. \"We would like to take you on a journey through the cosmos, to show you the wonders of the universe and the power of friendship,\" the alien said.\\n\\nTimmy\\'s eyes widened with excitement, and Max barked eagerly, as if to say, \"Let\\'s go!\" The alien smiled and handed Timmy a special collar, which would allow him and Max to breathe in space.\\n\\nAs they soared through the galaxy, Timmy and Max saw incredible sights: swirling nebulas, sparkling stars, and colorful planets. They met strange and wonderful creatures, each with their own unique stories and friendships.\\n\\nBut the most amazing thing they encountered was a planet filled with dogs, all of whom were waiting for their human companions to join them. The dogs welcomed Max with open arms, and Timmy was amazed by the love and loyalty that filled the air.\\n\\nAs they spent more time on the planet, Timmy realized that Max was not just a dog, but a gateway to a much larger universe of friendship and love. He understood that their bond was not just between two individuals, but a connection to something much greater.\\n\\nAs they prepared to return to their town, the alien handed Timmy a small, glowing stone. \"This is a symbol of your friendship and a reminder of the incredible journey you shared,\" the alien said. \"Keep it close to your heart, and you will always remember the power of love and loyalty.\"\\n\\nAs they returned to their town, Timmy and Max were greeted as heroes. But more importantly, they had discovered a new appreciation for each other and for the world around them. They knew that their friendship was a reminder that love and loyalty can conquer all, even the vastness of space.\\n\\nAnd as they settled back into their routine, Timmy turned to Max with a smile. \"You\\'re not just my dog, Max. You\\'re my best friend, my companion, and my key to the universe.\"\\n\\nMax wagged his tail, and Timmy knew that he understood. Their adventure may have ended, but their journey through the cosmos of friendship and love had just begun.' type='TextMessage': **The Final Adventure: A Twist of Fate**\n",
      "\n",
      "As the sun began to set on another day of adventure, Timmy and Max settled down in their favorite spot, a hill overlooking the town. They had spent the day exploring the woods, chasing after squirrels, and playing in the park. As they sat together, watching the stars begin to twinkle in the night sky, Timmy turned to Max with a curious expression.\n",
      "\n",
      "\"Max, do you think there's more to life than just our town?\" Timmy asked, his eyes sparkling with wonder.\n",
      "\n",
      "Max tilted his head, as if considering the question. He let out a soft bark, and Timmy smiled, knowing that Max was trying to tell him something.\n",
      "\n",
      "Just then, a strange glow appeared on the horizon. The glow grew brighter and brighter, until Timmy and Max could see a magnificent spaceship descending from the sky. The ship landed softly in the field below, and a ramp extended from the side.\n",
      "\n",
      "A friendly alien emerged from the ship, with big, round eyes and a warm smile. \"Greetings, Timmy and Max,\" the alien said, in a voice that sounded like music. \"We have been watching you from afar, and we are impressed by your love and loyalty to each other.\"\n",
      "\n",
      "The alien explained that they were on a mission to find the most special friendships in the galaxy, and they had chosen Timmy and Max as the winners. \"We would like to take you on a journey through the cosmos, to show you the wonders of the universe and the power of friendship,\" the alien said.\n",
      "\n",
      "Timmy's eyes widened with excitement, and Max barked eagerly, as if to say, \"Let's go!\" The alien smiled and handed Timmy a special collar, which would allow him and Max to breathe in space.\n",
      "\n",
      "As they soared through the galaxy, Timmy and Max saw incredible sights: swirling nebulas, sparkling stars, and colorful planets. They met strange and wonderful creatures, each with their own unique stories and friendships.\n",
      "\n",
      "But the most amazing thing they encountered was a planet filled with dogs, all of whom were waiting for their human companions to join them. The dogs welcomed Max with open arms, and Timmy was amazed by the love and loyalty that filled the air.\n",
      "\n",
      "As they spent more time on the planet, Timmy realized that Max was not just a dog, but a gateway to a much larger universe of friendship and love. He understood that their bond was not just between two individuals, but a connection to something much greater.\n",
      "\n",
      "As they prepared to return to their town, the alien handed Timmy a small, glowing stone. \"This is a symbol of your friendship and a reminder of the incredible journey you shared,\" the alien said. \"Keep it close to your heart, and you will always remember the power of love and loyalty.\"\n",
      "\n",
      "As they returned to their town, Timmy and Max were greeted as heroes. But more importantly, they had discovered a new appreciation for each other and for the world around them. They knew that their friendship was a reminder that love and loyalty can conquer all, even the vastness of space.\n",
      "\n",
      "And as they settled back into their routine, Timmy turned to Max with a smile. \"You're not just my dog, Max. You're my best friend, my companion, and my key to the universe.\"\n",
      "\n",
      "Max wagged his tail, and Timmy knew that he understood. Their adventure may have ended, but their journey through the cosmos of friendship and love had just begun.\n"
     ]
    }
   ],
   "source": [
    "from autogen_agentchat.teams import RoundRobinGroupChat\n",
    "\n",
    "team = RoundRobinGroupChat(\n",
    "    [plot_agent, character_agent, ending_agent], # list of agents \n",
    "    max_turns=3\n",
    "     # max_turns: 3, # if its 1 then only plot agent will work, if 2 then plot and character agent will work, 3 then all 3 will work\n",
    "    # termination_condition: condition to terminate the agents\n",
    ")\n",
    "\n",
    "\n",
    "async def test_team():\n",
    "    task = TextMessage(\n",
    "        content=\"write story about dog and boy\",\n",
    "        source='user'\n",
    "    )\n",
    "\n",
    "    result = await team.run(task=task)\n",
    "    # since its a team we will have multiple messages so \n",
    "    for each_agent_message in result.messages:\n",
    "        print(f\"{each_agent_message}: {each_agent_message.content}\")\n",
    "\n",
    "await test_team()"
   ]
  },
  {
   "cell_type": "code",
   "execution_count": null,
   "id": "9551836e",
   "metadata": {},
   "outputs": [],
   "source": []
  }
 ],
 "metadata": {
  "kernelspec": {
   "display_name": "venv",
   "language": "python",
   "name": "python3"
  },
  "language_info": {
   "codemirror_mode": {
    "name": "ipython",
    "version": 3
   },
   "file_extension": ".py",
   "mimetype": "text/x-python",
   "name": "python",
   "nbconvert_exporter": "python",
   "pygments_lexer": "ipython3",
   "version": "3.10.9"
  }
 },
 "nbformat": 4,
 "nbformat_minor": 5
}
