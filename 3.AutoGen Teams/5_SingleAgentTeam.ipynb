{
 "cells": [
  {
   "cell_type": "code",
   "execution_count": 1,
   "id": "355006ae",
   "metadata": {},
   "outputs": [
    {
     "name": "stderr",
     "output_type": "stream",
     "text": [
      "c:\\Users\\shubu\\Desktop\\AutoGen Hardcode\\venv\\lib\\site-packages\\autogen_ext\\models\\openai\\_openai_client.py:413: UserWarning: Missing required field 'structured_output' in ModelInfo. This field will be required in a future version of AutoGen.\n",
      "  validate_model_info(self._model_info)\n"
     ]
    }
   ],
   "source": [
    "import asyncio\n",
    "from autogen_agentchat.agents import AssistantAgent\n",
    "from autogen_ext.models.openai import OpenAIChatCompletionClient\n",
    "from autogen_agentchat.messages import TextMessage\n",
    "from dotenv import load_dotenv\n",
    "load_dotenv()\n",
    "import os\n",
    "\n",
    "key = os.getenv(\"Groq_api_key\")\n",
    "\n",
    "model_client =  OpenAIChatCompletionClient(\n",
    "    base_url=\"https://api.groq.com/openai/v1\",\n",
    "    model=\"llama-3.3-70b-versatile\",\n",
    "    api_key = key,\n",
    "    model_info={\n",
    "        \"family\":'llama',\n",
    "        \"vision\" :False,\n",
    "        \"function_calling\":True,\n",
    "        \"json_output\": True\n",
    "    }\n",
    ")"
   ]
  },
  {
   "cell_type": "markdown",
   "id": "3450de7b",
   "metadata": {},
   "source": [
    "## Why use a single Agent team?\n",
    "\n",
    "1. Consistency - termination conditions, logging, observing\n",
    "2. Scalability - we can add more agents as our use case expands without rewriting logic. \n",
    "3. Control - Features like observers or cancellation work seamlessly."
   ]
  },
  {
   "cell_type": "code",
   "execution_count": 2,
   "id": "b9b2bd9c",
   "metadata": {},
   "outputs": [],
   "source": [
    "from autogen_agentchat.conditions import TextMentionTermination\n",
    "from autogen_agentchat.teams import RoundRobinGroupChat\n",
    "poet = AssistantAgent(\n",
    "    name = 'solo_poet',\n",
    "    model_client=model_client,\n",
    "    system_message=\"You are a poet. Write a short poem on Moon and end with 'MOONLIGHT FADES'. \"\n",
    ")\n",
    "\n",
    "termination = TextMentionTermination('MOONLIGHT FADES')\n",
    "\n",
    "team = RoundRobinGroupChat(\n",
    "    participants=[poet],\n",
    "    termination_condition=termination\n",
    ")"
   ]
  },
  {
   "cell_type": "code",
   "execution_count": 3,
   "id": "2c522bd2",
   "metadata": {},
   "outputs": [
    {
     "name": "stdout",
     "output_type": "stream",
     "text": [
      "user: Write a short poem on in 30 words on Moon\n",
      "solo_poet: Softly glows the Moon, a silver orb in night, radiant beams illuminating all, serene and peaceful, gentle MOONLIGHT FADES\n"
     ]
    }
   ],
   "source": [
    "async def test_single_agent():\n",
    "    task = TextMessage(content=\"Write a short poem on in 30 words on Moon\",source='user')\n",
    "    result = await team.run(task=task)\n",
    "    for message in result.messages:\n",
    "        print(f\"{message.source}: {message.content}\")\n",
    "\n",
    "\n",
    "await test_single_agent()  "
   ]
  },
  {
   "cell_type": "markdown",
   "id": "702e2299",
   "metadata": {},
   "source": [
    "## Single-Agent Team vs. Plain Single Agent\n",
    "\n",
    "| Aspect             | Single-Agent Team            | Plain Single Agent          |\n",
    "|--------------------|------------------------------|-----------------------------|\n",
    "| **Termination**    | Stops with condition (e.g., \"MOONLIGHT FADES\") | Runs until task ends        |\n",
    "| **Observability**  | Supports Console observers   | Manual logging only         |\n",
    "| **Flexibility**    | Easily scales to multi-agent | Fixed to one agent          |"
   ]
  }
 ],
 "metadata": {
  "kernelspec": {
   "display_name": "venv",
   "language": "python",
   "name": "python3"
  },
  "language_info": {
   "codemirror_mode": {
    "name": "ipython",
    "version": 3
   },
   "file_extension": ".py",
   "mimetype": "text/x-python",
   "name": "python",
   "nbconvert_exporter": "python",
   "pygments_lexer": "ipython3",
   "version": "3.10.9"
  }
 },
 "nbformat": 4,
 "nbformat_minor": 5
}
