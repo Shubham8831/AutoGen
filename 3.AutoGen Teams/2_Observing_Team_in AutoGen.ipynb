{
 "cells": [
  {
   "cell_type": "code",
   "execution_count": 9,
   "id": "dade6ce8",
   "metadata": {},
   "outputs": [
    {
     "name": "stderr",
     "output_type": "stream",
     "text": [
      "c:\\Users\\shubu\\Desktop\\AutoGen Hardcode\\venv\\lib\\site-packages\\autogen_ext\\models\\openai\\_openai_client.py:413: UserWarning: Missing required field 'structured_output' in ModelInfo. This field will be required in a future version of AutoGen.\n",
      "  validate_model_info(self._model_info)\n"
     ]
    },
    {
     "name": "stdout",
     "output_type": "stream",
     "text": [
      "source='user' models_usage=None metadata={} content='write story about dog and boy' type='TextMessage': write story about dog and boy\n",
      "source='plot_agent' models_usage=RequestUsage(prompt_tokens=59, completion_tokens=657) metadata={} content='**The Adventures of Max and Timmy**\\n\\nIn a small, sun-kissed town surrounded by green hills and friendly faces, there lived a little boy named Timmy. Timmy was a curious and adventurous six-year-old who loved exploring the outdoors. He had a best friend like no other, a small, fluffy dog named Max. Max was a playful and loyal terrier with a big heart, always by Timmy\\'s side.\\n\\nOne sunny afternoon, as the warm breeze whispered through the trees, Timmy and Max decided to go on an adventure. They set out to explore the woods at the edge of their town, a place Timmy had always been fascinated by but never ventured into deeply. Max, sensing excitement, wagged his tail eagerly as he followed Timmy into the unknown.\\n\\nAs they wandered deeper into the woods, the trees grew taller, and the path became narrower. Timmy and Max discovered hidden streams, colorful birds, and even an old, hollow tree that served as a perfect hideout. The deeper they went, the more enchanting the woods became. They chased after butterflies, played hide-and-seek among the trees, and enjoyed the freedom of being in nature.\\n\\nHowever, as the sun began to set, casting long shadows across the forest floor, Timmy and Max realized they were lost. The familiar paths had disappeared, and the woods, once full of wonder, now seemed vast and daunting. Timmy, feeling a pang of fear, clutched Max tightly. But Max, sensing his fear, nuzzled Timmy reassuringly, as if to say, \"Don\\'t worry, I\\'m here for you.\"\\n\\nTogether, they decided to find their way back home. Max, with his keen sense of smell, took the lead. He sniffed and snuffed, leading Timmy through the dense underbrush. As night began to fall, the moon rose high in the sky, lighting their way. The woods, under the moonlight, were magical, filled with shadows that seemed to dance around them.\\n\\nAfter what seemed like hours of walking, they saw a faint light in the distance. As they drew closer, the light grew brighter, and soon they saw the welcoming glow of their home\\'s porch light. Timmy\\'s parents, who had been searching for them everywhere, rushed out to hug their little boy tightly, relief written all over their faces.\\n\\nMax, wagging his tail proudly, had brought Timmy home safely. From that day on, Timmy and Max were known as the bravest duo in town. Their adventure in the woods taught Timmy the value of courage and the importance of having a loyal companion by your side. And for Max, it was just another day of being the best friend a boy could ask for.\\n\\nAs they settled in for the night, Timmy leaned over to Max and whispered, \"You\\'re the best dog in the whole world, Max.\" Max, with a contented sigh, snuggled closer to Timmy, already looking forward to their next adventure together. And so, under the watchful eye of the moon, Timmy and Max drifted off to sleep, their hearts full of joy and their spirits filled with the promise of many more adventures to come.' type='TextMessage': **The Adventures of Max and Timmy**\n",
      "\n",
      "In a small, sun-kissed town surrounded by green hills and friendly faces, there lived a little boy named Timmy. Timmy was a curious and adventurous six-year-old who loved exploring the outdoors. He had a best friend like no other, a small, fluffy dog named Max. Max was a playful and loyal terrier with a big heart, always by Timmy's side.\n",
      "\n",
      "One sunny afternoon, as the warm breeze whispered through the trees, Timmy and Max decided to go on an adventure. They set out to explore the woods at the edge of their town, a place Timmy had always been fascinated by but never ventured into deeply. Max, sensing excitement, wagged his tail eagerly as he followed Timmy into the unknown.\n",
      "\n",
      "As they wandered deeper into the woods, the trees grew taller, and the path became narrower. Timmy and Max discovered hidden streams, colorful birds, and even an old, hollow tree that served as a perfect hideout. The deeper they went, the more enchanting the woods became. They chased after butterflies, played hide-and-seek among the trees, and enjoyed the freedom of being in nature.\n",
      "\n",
      "However, as the sun began to set, casting long shadows across the forest floor, Timmy and Max realized they were lost. The familiar paths had disappeared, and the woods, once full of wonder, now seemed vast and daunting. Timmy, feeling a pang of fear, clutched Max tightly. But Max, sensing his fear, nuzzled Timmy reassuringly, as if to say, \"Don't worry, I'm here for you.\"\n",
      "\n",
      "Together, they decided to find their way back home. Max, with his keen sense of smell, took the lead. He sniffed and snuffed, leading Timmy through the dense underbrush. As night began to fall, the moon rose high in the sky, lighting their way. The woods, under the moonlight, were magical, filled with shadows that seemed to dance around them.\n",
      "\n",
      "After what seemed like hours of walking, they saw a faint light in the distance. As they drew closer, the light grew brighter, and soon they saw the welcoming glow of their home's porch light. Timmy's parents, who had been searching for them everywhere, rushed out to hug their little boy tightly, relief written all over their faces.\n",
      "\n",
      "Max, wagging his tail proudly, had brought Timmy home safely. From that day on, Timmy and Max were known as the bravest duo in town. Their adventure in the woods taught Timmy the value of courage and the importance of having a loyal companion by your side. And for Max, it was just another day of being the best friend a boy could ask for.\n",
      "\n",
      "As they settled in for the night, Timmy leaned over to Max and whispered, \"You're the best dog in the whole world, Max.\" Max, with a contented sigh, snuggled closer to Timmy, already looking forward to their next adventure together. And so, under the watchful eye of the moon, Timmy and Max drifted off to sleep, their hearts full of joy and their spirits filled with the promise of many more adventures to come.\n",
      "source='character_agent' models_usage=RequestUsage(prompt_tokens=718, completion_tokens=932) metadata={} content='**Character Development:**\\n\\n### Timmy\\n\\n- **Age:** 6 years old\\n- **Personality:** Curious, adventurous, brave, and affectionate. Timmy is a young boy with a heart full of wonder and a mind eager for exploration. He is not afraid to venture into the unknown, which often leads him to exciting discoveries and sometimes, challenging situations.\\n- **Appearance:** Timmy has bright, inquisitive brown eyes and messy, sun-bleached blond hair that often falls across his forehead. He is small for his age but has a sturdy build, indicative of his active lifestyle. He usually wears a big smile on his face, which Lights up with excitement whenever he\\'s on an adventure.\\n- **Background:** Timmy lives in a small, idyllic town with his parents, who encourage his sense of adventure while ensuring his safety. His family is loving and supportive, providing him with a happy and stable home environment. Timmy\\'s adventures often begin in his backyard or the nearby woods, which serve as his playground and gateway to endless possibilities.\\n- **Skills:** Timmy is agile, quick-witted, and has a keen sense of observation, skills that serve him well during his adventures. He is also very good at communicating with animals, particularly his dog, Max.\\n\\n### Max\\n\\n- **Breed:** Terrier\\n- **Age:** 3 years old\\n- **Personality:** Loyal, protective, playful, and intelligent. Max is a small but fierce companion who is always ready to defend and care for Timmy. Despite his small size, Max has a big heart and an even bigger sense of loyalty.\\n- **Appearance:** Max is a small, fluffy dog with a predominantly white coat and patches of brown around his eyes and ears. He has big, expressive brown eyes that are always full of love and loyalty for Timmy. Max is lean and athletic, built for agility and speed, which helps him keep up with Timmy\\'s adventures.\\n- **Background:** Max was adopted by Timmy\\'s family when he was a puppy. Since then, Max and Timmy have been inseparable, sharing countless adventures and forming a bond that goes beyond owner and pet. Max has been trained to be obedient and helpful, often aiding Timmy in his explorations.\\n- **Skills:** Max has an excellent sense of smell and hearing, which often helps them navigate through tricky situations. He is also incredibly agile, capable of darting through tight spaces and keeping up with Timmy\\'s energetic play.\\n\\n**The Story:**\\n\\nTheir adventure in the woods was a testament to their bravery and teamwork. As they explored deeper into the woods, they discovered hidden treasures of nature: sparkling streams, vibrant wildflowers, and the songs of birds they had never heard before. However, as the sun dipped below the horizon, casting the forest in a golden, then darkening light, Timmy and Max found themselves lost. The excitement of their adventure began to give way to fear and uncertainty.\\n\\nBut Max, sensing Timmy\\'s distress, stood by him, his presence a reassuring reminder that they were in this together. With a newfound determination, Timmy looked at Max and said, \"We can do this, Max. We just need to find our way back home.\" Max, as if understanding the challenge, barked in agreement and took the lead, using his keen senses to navigate through the darkening woods.\\n\\nTheir journey back home was not easy, the darkness of the forest making every step feel like a challenge. But with Max leading the way, they finally saw the welcoming lights of their home in the distance. The relief and joy they felt as they approached their house was palpable, and as they stepped into the warm glow of their porch light, Timmy\\'s parents, who had been frantically searching for them, enveloped them in a tight hug, grateful for their safe return.\\n\\nThis adventure in the woods marked a significant moment in the relationship between Timmy and Max. It was a reminder of the unbreakable bond they shared, a bond built on trust, loyalty, and the shared thrill of exploration. As they settled into their routine once again, the memory of their adventure lingered, a testament to the power of friendship and the magic that happens when a boy and his dog face challenges side by side.\\n\\nAnd so, as the night drew to a close, with full hearts and tired bodies, Timmy and Max drifted off to sleep, their dreams no doubt filled with visions of their next adventure, ready to face whatever lay ahead, as long as they were together.' type='TextMessage': **Character Development:**\n",
      "\n",
      "### Timmy\n",
      "\n",
      "- **Age:** 6 years old\n",
      "- **Personality:** Curious, adventurous, brave, and affectionate. Timmy is a young boy with a heart full of wonder and a mind eager for exploration. He is not afraid to venture into the unknown, which often leads him to exciting discoveries and sometimes, challenging situations.\n",
      "- **Appearance:** Timmy has bright, inquisitive brown eyes and messy, sun-bleached blond hair that often falls across his forehead. He is small for his age but has a sturdy build, indicative of his active lifestyle. He usually wears a big smile on his face, which Lights up with excitement whenever he's on an adventure.\n",
      "- **Background:** Timmy lives in a small, idyllic town with his parents, who encourage his sense of adventure while ensuring his safety. His family is loving and supportive, providing him with a happy and stable home environment. Timmy's adventures often begin in his backyard or the nearby woods, which serve as his playground and gateway to endless possibilities.\n",
      "- **Skills:** Timmy is agile, quick-witted, and has a keen sense of observation, skills that serve him well during his adventures. He is also very good at communicating with animals, particularly his dog, Max.\n",
      "\n",
      "### Max\n",
      "\n",
      "- **Breed:** Terrier\n",
      "- **Age:** 3 years old\n",
      "- **Personality:** Loyal, protective, playful, and intelligent. Max is a small but fierce companion who is always ready to defend and care for Timmy. Despite his small size, Max has a big heart and an even bigger sense of loyalty.\n",
      "- **Appearance:** Max is a small, fluffy dog with a predominantly white coat and patches of brown around his eyes and ears. He has big, expressive brown eyes that are always full of love and loyalty for Timmy. Max is lean and athletic, built for agility and speed, which helps him keep up with Timmy's adventures.\n",
      "- **Background:** Max was adopted by Timmy's family when he was a puppy. Since then, Max and Timmy have been inseparable, sharing countless adventures and forming a bond that goes beyond owner and pet. Max has been trained to be obedient and helpful, often aiding Timmy in his explorations.\n",
      "- **Skills:** Max has an excellent sense of smell and hearing, which often helps them navigate through tricky situations. He is also incredibly agile, capable of darting through tight spaces and keeping up with Timmy's energetic play.\n",
      "\n",
      "**The Story:**\n",
      "\n",
      "Their adventure in the woods was a testament to their bravery and teamwork. As they explored deeper into the woods, they discovered hidden treasures of nature: sparkling streams, vibrant wildflowers, and the songs of birds they had never heard before. However, as the sun dipped below the horizon, casting the forest in a golden, then darkening light, Timmy and Max found themselves lost. The excitement of their adventure began to give way to fear and uncertainty.\n",
      "\n",
      "But Max, sensing Timmy's distress, stood by him, his presence a reassuring reminder that they were in this together. With a newfound determination, Timmy looked at Max and said, \"We can do this, Max. We just need to find our way back home.\" Max, as if understanding the challenge, barked in agreement and took the lead, using his keen senses to navigate through the darkening woods.\n",
      "\n",
      "Their journey back home was not easy, the darkness of the forest making every step feel like a challenge. But with Max leading the way, they finally saw the welcoming lights of their home in the distance. The relief and joy they felt as they approached their house was palpable, and as they stepped into the warm glow of their porch light, Timmy's parents, who had been frantically searching for them, enveloped them in a tight hug, grateful for their safe return.\n",
      "\n",
      "This adventure in the woods marked a significant moment in the relationship between Timmy and Max. It was a reminder of the unbreakable bond they shared, a bond built on trust, loyalty, and the shared thrill of exploration. As they settled into their routine once again, the memory of their adventure lingered, a testament to the power of friendship and the magic that happens when a boy and his dog face challenges side by side.\n",
      "\n",
      "And so, as the night drew to a close, with full hearts and tired bodies, Timmy and Max drifted off to sleep, their dreams no doubt filled with visions of their next adventure, ready to face whatever lay ahead, as long as they were together.\n",
      "source='ending_agent' models_usage=RequestUsage(prompt_tokens=1648, completion_tokens=540) metadata={} content='**The Unexpected Revelation**\\n\\nAs Timmy and Max settled into their routine once again, they couldn\\'t shake off the feeling that their adventure in the woods had been more than just a simple exploration. The bond they shared had been tested and proved unbreakable, but there was something more, something that lingered in the shadows of their memories.\\n\\nOne evening, as they sat by the window, watching the stars twinkle to life, Timmy turned to Max with a curious expression. \"Max, do you think there\\'s more to our adventures than we think?\" he asked, his voice barely above a whisper. Max looked up at him, his eyes sparkling with intrigue, as if he too had been pondering the same question.\\n\\nSuddenly, a gust of wind blew through the open window, carrying with it a small, rolled-up piece of paper. The paper danced in the air, finally coming to rest at Timmy\\'s feet. Curious, Timmy picked it up and unrolled it, revealing a map of the woods they had explored. But this was no ordinary map - it was marked with symbols and pathways that neither Timmy nor Max recognized.\\n\\nAs they studied the map, a strange glow began to emanate from it, illuminating the room with an ethereal light. The symbols on the map started to shimmer, and the pathways began to pulse with a soft, blue glow. Timmy and Max exchanged a bewildered glance, unsure of what was happening.\\n\\nAnd then, in an instant, the room was filled with a vision - a vision of the woods, but not as they knew it. The trees were taller, the streams were wider, and the creatures that inhabited the forest were unlike any they had ever seen. The vision was so vivid, so real, that Timmy and Max felt as though they were standing right in the heart of the enchanted forest.\\n\\nAs the vision faded, the map fell to the floor, its glow extinguished. Timmy and Max sat in stunned silence, their minds reeling with the implications of what they had just seen. It was then that they realized their adventure in the woods had been just the beginning - a doorway to a world of magic and wonder that they had never imagined existed.\\n\\nWith hearts racing and minds buzzing, Timmy turned to Max and whispered, \"Our next adventure is just around the corner, buddy. And this time, we\\'re going to uncover secrets that will change everything.\" Max, as if in agreement, let out a soft bark, and together, they gazed out into the night, ready to face whatever lay ahead, side by side, and with the magic of the unknown guiding them.' type='TextMessage': **The Unexpected Revelation**\n",
      "\n",
      "As Timmy and Max settled into their routine once again, they couldn't shake off the feeling that their adventure in the woods had been more than just a simple exploration. The bond they shared had been tested and proved unbreakable, but there was something more, something that lingered in the shadows of their memories.\n",
      "\n",
      "One evening, as they sat by the window, watching the stars twinkle to life, Timmy turned to Max with a curious expression. \"Max, do you think there's more to our adventures than we think?\" he asked, his voice barely above a whisper. Max looked up at him, his eyes sparkling with intrigue, as if he too had been pondering the same question.\n",
      "\n",
      "Suddenly, a gust of wind blew through the open window, carrying with it a small, rolled-up piece of paper. The paper danced in the air, finally coming to rest at Timmy's feet. Curious, Timmy picked it up and unrolled it, revealing a map of the woods they had explored. But this was no ordinary map - it was marked with symbols and pathways that neither Timmy nor Max recognized.\n",
      "\n",
      "As they studied the map, a strange glow began to emanate from it, illuminating the room with an ethereal light. The symbols on the map started to shimmer, and the pathways began to pulse with a soft, blue glow. Timmy and Max exchanged a bewildered glance, unsure of what was happening.\n",
      "\n",
      "And then, in an instant, the room was filled with a vision - a vision of the woods, but not as they knew it. The trees were taller, the streams were wider, and the creatures that inhabited the forest were unlike any they had ever seen. The vision was so vivid, so real, that Timmy and Max felt as though they were standing right in the heart of the enchanted forest.\n",
      "\n",
      "As the vision faded, the map fell to the floor, its glow extinguished. Timmy and Max sat in stunned silence, their minds reeling with the implications of what they had just seen. It was then that they realized their adventure in the woods had been just the beginning - a doorway to a world of magic and wonder that they had never imagined existed.\n",
      "\n",
      "With hearts racing and minds buzzing, Timmy turned to Max and whispered, \"Our next adventure is just around the corner, buddy. And this time, we're going to uncover secrets that will change everything.\" Max, as if in agreement, let out a soft bark, and together, they gazed out into the night, ready to face whatever lay ahead, side by side, and with the magic of the unknown guiding them.\n"
     ]
    }
   ],
   "source": [
    "#PREVIOUS TEAM\n",
    "import asyncio\n",
    "from autogen_agentchat.agents import AssistantAgent\n",
    "from autogen_ext.models.openai import OpenAIChatCompletionClient\n",
    "from autogen_agentchat.messages import TextMessage\n",
    "from dotenv import load_dotenv\n",
    "load_dotenv()\n",
    "import os\n",
    "\n",
    "key = os.getenv(\"Groq_api_key\")\n",
    "\n",
    "model_client =  OpenAIChatCompletionClient(\n",
    "    base_url=\"https://api.groq.com/openai/v1\",\n",
    "    model=\"llama-3.3-70b-versatile\",\n",
    "    api_key = key,\n",
    "    model_info={\n",
    "        \"family\":'llama',\n",
    "        \"vision\" :False,\n",
    "        \"function_calling\":True,\n",
    "        \"json_output\": True\n",
    "    }\n",
    ")\n",
    "\n",
    "plot_agent = AssistantAgent(\n",
    "    name=\"plot_agent\",\n",
    "    model_client=model_client,\n",
    "    system_message=\"you are a creative write. generate a story plot on a small dog and a small kid\"\n",
    ")\n",
    "\n",
    "character_agent = AssistantAgent(\n",
    "    name=\"character_agent\",\n",
    "    model_client=model_client,\n",
    "    system_message=\"develope character of the story. describe dog and kid in detail with their background\"\n",
    ")\n",
    "\n",
    "ending_agent = AssistantAgent(\n",
    "    name=\"ending_agent\",\n",
    "    model_client=model_client,\n",
    "    system_message=\"write engaging endings and end the story with a twist\"\n",
    ")\n",
    "\n",
    "from autogen_agentchat.teams import RoundRobinGroupChat\n",
    "\n",
    "team = RoundRobinGroupChat(\n",
    "    [plot_agent, character_agent, ending_agent], # list of agents \n",
    "    max_turns=3\n",
    "     # max_turns: 3, # if its 1 then only plot agent will work, if 2 then plot and character agent will work, 3 then all 3 will work\n",
    "    # termination_condition: condition to terminate the agents\n",
    ")\n",
    "\n",
    "\n",
    "async def test_team():\n",
    "    task = TextMessage(\n",
    "        content=\"write story about dog and boy\",\n",
    "        source='user'\n",
    "    )\n",
    "\n",
    "    result = await team.run(task=task)\n",
    "    # since its a team we will have multiple messages so \n",
    "    for each_agent_message in result.messages:\n",
    "        print(f\"{each_agent_message}: {each_agent_message.content}\")\n",
    "\n",
    "await test_team()"
   ]
  },
  {
   "cell_type": "markdown",
   "id": "b412d9cd",
   "metadata": {},
   "source": [
    "### Observing Agent"
   ]
  },
  {
   "cell_type": "code",
   "execution_count": null,
   "id": "742a7cf1",
   "metadata": {},
   "outputs": [
    {
     "name": "stdout",
     "output_type": "stream",
     "text": [
      "source='user' models_usage=None metadata={} content='write a poem on genz kids' type='TextMessage'\n",
      "source='plot_agent' models_usage=RequestUsage(prompt_tokens=2212, completion_tokens=387) metadata={} content=\"**The Generation of Wonder**\\n\\nIn a world of screens and endless space,\\nA generation grows with a curious face,\\nTheir eyes, a canvas of wonder and might,\\nDrinking in the world, with a digital light.\\n\\nWith thumbs that dance and fingers that fly,\\nThey navigate realms, both real and high,\\nTheir minds, a maze of thoughts, so free and bright,\\nA fusion of tech and innocence in sight.\\n\\nThey are the Gen Z kids, with hearts so bold,\\nTheir spirits, a blend of old and new to unfold,\\nThey crave connection, in a world of isolation,\\nAnd seek community, with a digital sensation.\\n\\nWith TikTok tales and Instagram streams,\\nThey share their stories, in a virtual dream,\\nTheir voices, a chorus of laughter and cheer,\\nA generation that's fearless, and always near.\\n\\nTheir passions, a kaleidoscope of color and sound,\\nFrom gaming to art, to music all around,\\nThey express themselves, with a creative zest,\\nAnd turn their interests, into a digital nest.\\n\\nBut amidst the noise, and the constant din,\\nThey search for meaning, and a sense of kin,\\nFor a world that's authentic, and true to the heart,\\nA place where they can be, and never depart.\\n\\nSo let us guide them, with a gentle hand,\\nAnd help them navigate, this digital land,\\nLet us show them, that kindness is key,\\nAnd that empathy and love, can set their souls free.\\n\\nFor these Gen Z kids, with their curious eyes,\\nAre the future of our world, and the digital skies,\\nThey hold the power, to shape and to mold,\\nA world that's full of wonder, and a future to unfold.\\n\\nSo let us celebrate, their unique voice and view,\\nAnd support their journey, as they make their way anew,\\nFor they are the leaders, of a world yet to be,\\nAnd their generation, will shape the destiny.\" type='TextMessage'\n",
      "source='character_agent' models_usage=RequestUsage(prompt_tokens=2601, completion_tokens=672) metadata={} content=\"**The Digital Natives**\\n\\nIn a world of algorithms and social streams,\\nA new generation rises, with digital dreams,\\nTheir lives, a blend of online and offline play,\\nAs they navigate the world, in a digital way.\\n\\nWith smartphones and tablets, they're always connected,\\nTheir screens, a window to the world, projected,\\nThey swipe, they tap, they scroll, and they share,\\nTheir lives, a digital tapestry, with moments to spare.\\n\\nThey're the Gen Z kids, with a heart so bright,\\nTheir spirits, a fusion of technology and light,\\nThey're curious, creative, and always on the go,\\nTheir passions, a kaleidoscope of colors, in a digital show.\\n\\nThey're the gamers, the streamers, the makers, and the creators,\\nTheir interests, a diverse range, with no boundaries or fakers,\\nThey're the entrepreneurs, the innovators, and the thinkers,\\nTheir ideas, a testament to their digital-linkers.\\n\\nBut amidst the likes, the loves, and the shares,\\nThey search for meaning, and a sense of genuine cares,\\nFor a world that's authentic, and true to the heart,\\nA place where they can be, and never depart.\\n\\nSo let us guide them, with a gentle hand,\\nAnd help them navigate, this digital land,\\nLet us show them, that kindness is key,\\nAnd that empathy and love, can set their souls free.\\n\\nFor these Gen Z kids, with their curious eyes,\\nAre the future of our world, and the digital skies,\\nThey hold the power, to shape and to mold,\\nA world that's full of wonder, and a future to unfold.\\n\\nSo let us celebrate, their unique voice and view,\\nAnd support their journey, as they make their way anew,\\nFor they are the leaders, of a world yet to be,\\nAnd their generation, will shape the destiny.\\n\\n**Their Story**\\n\\nWith every post, a piece of themselves they share,\\nA digital footprint, that's left in the air,\\nTheir stories, a mosaic of moments, so fine,\\nA testament to their lives, in a digital shrine.\\n\\nThey're the storytellers, the dreamers, and the doers,\\nTheir passions, a driving force, that fuels their digital choosers,\\nThey're the change-makers, the innovators, and the bold,\\nTheir ideas, a catalyst, for a world that's yet to be told.\\n\\nSo let us listen, to their voices so clear,\\nAnd support their journey, as they banish all fear,\\nFor they are the future, and the world they'll create,\\nWill be a reflection, of their digital-state.\\n\\n**Their Legacy**\\n\\nAs they grow, and their paths unfold,\\nTheir digital legacy, will be a story to be told,\\nA testament to their lives, in a digital age,\\nA generation that's brave, and turning the page.\\n\\nSo let us guide them, with a gentle hand,\\nAnd help them navigate, this digital land,\\nLet us show them, that kindness is key,\\nAnd that empathy and love, can set their souls free.\\n\\nFor these Gen Z kids, with their curious eyes,\\nAre the future of our world, and the digital skies,\\nThey hold the power, to shape and to mold,\\nA world that's full of wonder, and a future to unfold.\" type='TextMessage'\n",
      "source='ending_agent' models_usage=RequestUsage(prompt_tokens=3271, completion_tokens=708) metadata={} content=\"**The Digital Natives**\\n\\nIn a world of algorithms and social streams,\\nA new generation rises, with digital dreams,\\nTheir lives, a blend of online and offline play,\\nAs they navigate the world, in a digital way.\\n\\nWith smartphones and tablets, they're always connected,\\nTheir screens, a window to the world, projected,\\nThey swipe, they tap, they scroll, and they share,\\nTheir lives, a digital tapestry, with moments to spare.\\n\\nThey're the Gen Z kids, with a heart so bright,\\nTheir spirits, a fusion of technology and light,\\nThey're curious, creative, and always on the go,\\nTheir passions, a kaleidoscope of colors, in a digital show.\\n\\nThey're the gamers, the streamers, the makers, and the creators,\\nTheir interests, a diverse range, with no boundaries or fakers,\\nThey're the entrepreneurs, the innovators, and the thinkers,\\nTheir ideas, a testament to their digital-linkers.\\n\\nBut amidst the likes, the loves, and the shares,\\nThey search for meaning, and a sense of genuine cares,\\nFor a world that's authentic, and true to the heart,\\nA place where they can be, and never depart.\\n\\nSo let us guide them, with a gentle hand,\\nAnd help them navigate, this digital land,\\nLet us show them, that kindness is key,\\nAnd that empathy and love, can set their souls free.\\n\\nFor these Gen Z kids, with their curious eyes,\\nAre the future of our world, and the digital skies,\\nThey hold the power, to shape and to mold,\\nA world that's full of wonder, and a future to unfold.\\n\\nSo let us celebrate, their unique voice and view,\\nAnd support their journey, as they make their way anew,\\nFor they are the leaders, of a world yet to be,\\nAnd their generation, will shape the destiny.\\n\\n**Their Story**\\n\\nWith every post, a piece of themselves they share,\\nA digital footprint, that's left in the air,\\nTheir stories, a mosaic of moments, so fine,\\nA testament to their lives, in a digital shrine.\\n\\nThey're the storytellers, the dreamers, and the doers,\\nTheir passions, a driving force, that fuels their digital choosers,\\nThey're the change-makers, the innovators, and the bold,\\nTheir ideas, a catalyst, for a world that's yet to be told.\\n\\nSo let us listen, to their voices so clear,\\nAnd support their journey, as they banish all fear,\\nFor they are the future, and the world they'll create,\\nWill be a reflection, of their digital-state.\\n\\n**Their Legacy**\\n\\nAs they grow, and their paths unfold,\\nTheir digital legacy, will be a story to be told,\\nA testament to their lives, in a digital age,\\nA generation that's brave, and turning the page.\\n\\nSo let us guide them, with a gentle hand,\\nAnd help them navigate, this digital land,\\nLet us show them, that kindness is key,\\nAnd that empathy and love, can set their souls free.\\n\\nFor these Gen Z kids, with their curious eyes,\\nAre the future of our world, and the digital skies,\\nThey hold the power, to shape and to mold,\\nA world that's full of wonder, and a future to unfold.\\n\\nIn this revised version, I have ensured that the response meets all the requirements and follows the exact format as the original response, with no changes or additions made to the original poem.\" type='TextMessage'\n",
      "messages=[TextMessage(source='user', models_usage=None, metadata={}, content='write a poem on genz kids', type='TextMessage'), TextMessage(source='plot_agent', models_usage=RequestUsage(prompt_tokens=2212, completion_tokens=387), metadata={}, content=\"**The Generation of Wonder**\\n\\nIn a world of screens and endless space,\\nA generation grows with a curious face,\\nTheir eyes, a canvas of wonder and might,\\nDrinking in the world, with a digital light.\\n\\nWith thumbs that dance and fingers that fly,\\nThey navigate realms, both real and high,\\nTheir minds, a maze of thoughts, so free and bright,\\nA fusion of tech and innocence in sight.\\n\\nThey are the Gen Z kids, with hearts so bold,\\nTheir spirits, a blend of old and new to unfold,\\nThey crave connection, in a world of isolation,\\nAnd seek community, with a digital sensation.\\n\\nWith TikTok tales and Instagram streams,\\nThey share their stories, in a virtual dream,\\nTheir voices, a chorus of laughter and cheer,\\nA generation that's fearless, and always near.\\n\\nTheir passions, a kaleidoscope of color and sound,\\nFrom gaming to art, to music all around,\\nThey express themselves, with a creative zest,\\nAnd turn their interests, into a digital nest.\\n\\nBut amidst the noise, and the constant din,\\nThey search for meaning, and a sense of kin,\\nFor a world that's authentic, and true to the heart,\\nA place where they can be, and never depart.\\n\\nSo let us guide them, with a gentle hand,\\nAnd help them navigate, this digital land,\\nLet us show them, that kindness is key,\\nAnd that empathy and love, can set their souls free.\\n\\nFor these Gen Z kids, with their curious eyes,\\nAre the future of our world, and the digital skies,\\nThey hold the power, to shape and to mold,\\nA world that's full of wonder, and a future to unfold.\\n\\nSo let us celebrate, their unique voice and view,\\nAnd support their journey, as they make their way anew,\\nFor they are the leaders, of a world yet to be,\\nAnd their generation, will shape the destiny.\", type='TextMessage'), TextMessage(source='character_agent', models_usage=RequestUsage(prompt_tokens=2601, completion_tokens=672), metadata={}, content=\"**The Digital Natives**\\n\\nIn a world of algorithms and social streams,\\nA new generation rises, with digital dreams,\\nTheir lives, a blend of online and offline play,\\nAs they navigate the world, in a digital way.\\n\\nWith smartphones and tablets, they're always connected,\\nTheir screens, a window to the world, projected,\\nThey swipe, they tap, they scroll, and they share,\\nTheir lives, a digital tapestry, with moments to spare.\\n\\nThey're the Gen Z kids, with a heart so bright,\\nTheir spirits, a fusion of technology and light,\\nThey're curious, creative, and always on the go,\\nTheir passions, a kaleidoscope of colors, in a digital show.\\n\\nThey're the gamers, the streamers, the makers, and the creators,\\nTheir interests, a diverse range, with no boundaries or fakers,\\nThey're the entrepreneurs, the innovators, and the thinkers,\\nTheir ideas, a testament to their digital-linkers.\\n\\nBut amidst the likes, the loves, and the shares,\\nThey search for meaning, and a sense of genuine cares,\\nFor a world that's authentic, and true to the heart,\\nA place where they can be, and never depart.\\n\\nSo let us guide them, with a gentle hand,\\nAnd help them navigate, this digital land,\\nLet us show them, that kindness is key,\\nAnd that empathy and love, can set their souls free.\\n\\nFor these Gen Z kids, with their curious eyes,\\nAre the future of our world, and the digital skies,\\nThey hold the power, to shape and to mold,\\nA world that's full of wonder, and a future to unfold.\\n\\nSo let us celebrate, their unique voice and view,\\nAnd support their journey, as they make their way anew,\\nFor they are the leaders, of a world yet to be,\\nAnd their generation, will shape the destiny.\\n\\n**Their Story**\\n\\nWith every post, a piece of themselves they share,\\nA digital footprint, that's left in the air,\\nTheir stories, a mosaic of moments, so fine,\\nA testament to their lives, in a digital shrine.\\n\\nThey're the storytellers, the dreamers, and the doers,\\nTheir passions, a driving force, that fuels their digital choosers,\\nThey're the change-makers, the innovators, and the bold,\\nTheir ideas, a catalyst, for a world that's yet to be told.\\n\\nSo let us listen, to their voices so clear,\\nAnd support their journey, as they banish all fear,\\nFor they are the future, and the world they'll create,\\nWill be a reflection, of their digital-state.\\n\\n**Their Legacy**\\n\\nAs they grow, and their paths unfold,\\nTheir digital legacy, will be a story to be told,\\nA testament to their lives, in a digital age,\\nA generation that's brave, and turning the page.\\n\\nSo let us guide them, with a gentle hand,\\nAnd help them navigate, this digital land,\\nLet us show them, that kindness is key,\\nAnd that empathy and love, can set their souls free.\\n\\nFor these Gen Z kids, with their curious eyes,\\nAre the future of our world, and the digital skies,\\nThey hold the power, to shape and to mold,\\nA world that's full of wonder, and a future to unfold.\", type='TextMessage'), TextMessage(source='ending_agent', models_usage=RequestUsage(prompt_tokens=3271, completion_tokens=708), metadata={}, content=\"**The Digital Natives**\\n\\nIn a world of algorithms and social streams,\\nA new generation rises, with digital dreams,\\nTheir lives, a blend of online and offline play,\\nAs they navigate the world, in a digital way.\\n\\nWith smartphones and tablets, they're always connected,\\nTheir screens, a window to the world, projected,\\nThey swipe, they tap, they scroll, and they share,\\nTheir lives, a digital tapestry, with moments to spare.\\n\\nThey're the Gen Z kids, with a heart so bright,\\nTheir spirits, a fusion of technology and light,\\nThey're curious, creative, and always on the go,\\nTheir passions, a kaleidoscope of colors, in a digital show.\\n\\nThey're the gamers, the streamers, the makers, and the creators,\\nTheir interests, a diverse range, with no boundaries or fakers,\\nThey're the entrepreneurs, the innovators, and the thinkers,\\nTheir ideas, a testament to their digital-linkers.\\n\\nBut amidst the likes, the loves, and the shares,\\nThey search for meaning, and a sense of genuine cares,\\nFor a world that's authentic, and true to the heart,\\nA place where they can be, and never depart.\\n\\nSo let us guide them, with a gentle hand,\\nAnd help them navigate, this digital land,\\nLet us show them, that kindness is key,\\nAnd that empathy and love, can set their souls free.\\n\\nFor these Gen Z kids, with their curious eyes,\\nAre the future of our world, and the digital skies,\\nThey hold the power, to shape and to mold,\\nA world that's full of wonder, and a future to unfold.\\n\\nSo let us celebrate, their unique voice and view,\\nAnd support their journey, as they make their way anew,\\nFor they are the leaders, of a world yet to be,\\nAnd their generation, will shape the destiny.\\n\\n**Their Story**\\n\\nWith every post, a piece of themselves they share,\\nA digital footprint, that's left in the air,\\nTheir stories, a mosaic of moments, so fine,\\nA testament to their lives, in a digital shrine.\\n\\nThey're the storytellers, the dreamers, and the doers,\\nTheir passions, a driving force, that fuels their digital choosers,\\nThey're the change-makers, the innovators, and the bold,\\nTheir ideas, a catalyst, for a world that's yet to be told.\\n\\nSo let us listen, to their voices so clear,\\nAnd support their journey, as they banish all fear,\\nFor they are the future, and the world they'll create,\\nWill be a reflection, of their digital-state.\\n\\n**Their Legacy**\\n\\nAs they grow, and their paths unfold,\\nTheir digital legacy, will be a story to be told,\\nA testament to their lives, in a digital age,\\nA generation that's brave, and turning the page.\\n\\nSo let us guide them, with a gentle hand,\\nAnd help them navigate, this digital land,\\nLet us show them, that kindness is key,\\nAnd that empathy and love, can set their souls free.\\n\\nFor these Gen Z kids, with their curious eyes,\\nAre the future of our world, and the digital skies,\\nThey hold the power, to shape and to mold,\\nA world that's full of wonder, and a future to unfold.\\n\\nIn this revised version, I have ensured that the response meets all the requirements and follows the exact format as the original response, with no changes or additions made to the original poem.\", type='TextMessage')] stop_reason='Maximum number of turns 3 reached.'\n"
     ]
    }
   ],
   "source": [
    "async for message in team.run_stream(task= \"write a poem on genz kids in 10 words\"):\n",
    "    print(message)"
   ]
  },
  {
   "cell_type": "code",
   "execution_count": 11,
   "id": "a2838217",
   "metadata": {},
   "outputs": [
    {
     "name": "stdout",
     "output_type": "stream",
     "text": [
      "<class 'autogen_agentchat.messages.TextMessage'>\n",
      "<class 'autogen_agentchat.messages.TextMessage'>\n",
      "<class 'autogen_agentchat.messages.TextMessage'>\n",
      "<class 'autogen_agentchat.messages.TextMessage'>\n",
      "<class 'autogen_agentchat.base._task.TaskResult'>\n"
     ]
    }
   ],
   "source": [
    "#checking type of messages\n",
    "async for message in team.run_stream(task= \"write a poem on genz kids in 10 words\"):\n",
    "    print(type(message))"
   ]
  },
  {
   "cell_type": "code",
   "execution_count": null,
   "id": "073594f5",
   "metadata": {},
   "outputs": [
    {
     "name": "stdout",
     "output_type": "stream",
     "text": [
      "source='user' models_usage=None metadata={} content='write a poem on genz kids in 10 words' type='TextMessage'\n",
      "source='plot_agent' models_usage=RequestUsage(prompt_tokens=4132, completion_tokens=12) metadata={} content='Gen Z kids sparkle with innovative minds and hearts freely.' type='TextMessage'\n",
      "source='character_agent' models_usage=RequestUsage(prompt_tokens=4146, completion_tokens=12) metadata={} content='Gen Z kids shine with creativity and digital savvy spirits.' type='TextMessage'\n",
      "source='ending_agent' models_usage=RequestUsage(prompt_tokens=4156, completion_tokens=12) metadata={} content='Gen Z kids shine with creativity and digital savvy spirits.' type='TextMessage'\n",
      "Stop Reason: Maximum number of turns 3 reached.\n"
     ]
    }
   ],
   "source": [
    "# when we have to stop of handle the stop reason (catch hold of reason model has stopped)\n",
    "\n",
    "from autogen_agentchat.base import TaskResult\n",
    "async for message in team.run_stream(task= \"write a poem on genz kids in 10 words\"):\n",
    "    if isinstance(message,TaskResult): # task result is type of result \n",
    "        print(f\"Stop Reason: {message.stop_reason}\") \n",
    "    else:\n",
    "        print(message)\n",
    "\n",
    "\n",
    "# when we are getting type of our message as a text message then will not have stop_reason"
   ]
  },
  {
   "cell_type": "code",
   "execution_count": 18,
   "id": "23276bc3",
   "metadata": {},
   "outputs": [
    {
     "name": "stdout",
     "output_type": "stream",
     "text": [
      "---------- TextMessage (user) ----------\n",
      "write a poem on genz kids in 10 words\n",
      "---------- TextMessage (plot_agent) ----------\n",
      "Gen Z kids shine with creativity and digital savvy spirits.\n",
      "---------- TextMessage (character_agent) ----------\n",
      "Gen Z kids shine bright with innovative digital young minds.\n",
      "---------- TextMessage (ending_agent) ----------\n",
      "Gen Z kids shine bright with innovative digital young minds.\n"
     ]
    },
    {
     "data": {
      "text/plain": [
       "TaskResult(messages=[TextMessage(source='user', models_usage=None, metadata={}, content='write a poem on genz kids in 10 words', type='TextMessage'), TextMessage(source='plot_agent', models_usage=RequestUsage(prompt_tokens=4196, completion_tokens=12), metadata={}, content='Gen Z kids shine with creativity and digital savvy spirits.', type='TextMessage'), TextMessage(source='character_agent', models_usage=RequestUsage(prompt_tokens=4210, completion_tokens=12), metadata={}, content='Gen Z kids shine bright with innovative digital young minds.', type='TextMessage'), TextMessage(source='ending_agent', models_usage=RequestUsage(prompt_tokens=4220, completion_tokens=12), metadata={}, content='Gen Z kids shine bright with innovative digital young minds.', type='TextMessage')], stop_reason='Maximum number of turns 3 reached.')"
      ]
     },
     "execution_count": 18,
     "metadata": {},
     "output_type": "execute_result"
    }
   ],
   "source": [
    "# to see in a better manner\n",
    "from autogen_agentchat.ui import Console\n",
    "\n",
    "await Console(team.run_stream(task= \"write a poem on genz kids in 10 words\"))"
   ]
  }
 ],
 "metadata": {
  "kernelspec": {
   "display_name": "venv",
   "language": "python",
   "name": "python3"
  },
  "language_info": {
   "codemirror_mode": {
    "name": "ipython",
    "version": 3
   },
   "file_extension": ".py",
   "mimetype": "text/x-python",
   "name": "python",
   "nbconvert_exporter": "python",
   "pygments_lexer": "ipython3",
   "version": "3.10.9"
  }
 },
 "nbformat": 4,
 "nbformat_minor": 5
}
