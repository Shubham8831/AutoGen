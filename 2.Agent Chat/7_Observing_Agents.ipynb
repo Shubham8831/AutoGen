{
 "cells": [
  {
   "cell_type": "markdown",
   "id": "b3cf630c",
   "metadata": {},
   "source": [
    "## Running and Observing Agents"
   ]
  },
  {
   "cell_type": "code",
   "execution_count": 1,
   "id": "258d2372",
   "metadata": {},
   "outputs": [],
   "source": [
    "from autogen_agentchat.agents import AssistantAgent\n",
    "from autogen_ext.models.openai import OpenAIChatCompletionClient\n",
    "from autogen_agentchat.messages import TextMessage\n",
    "from dotenv import load_dotenv\n",
    "import os"
   ]
  },
  {
   "cell_type": "code",
   "execution_count": 2,
   "id": "45b857e4",
   "metadata": {},
   "outputs": [],
   "source": [
    "key = \"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\""
   ]
  },
  {
   "cell_type": "code",
   "execution_count": 3,
   "id": "24e3e2bd",
   "metadata": {},
   "outputs": [
    {
     "name": "stderr",
     "output_type": "stream",
     "text": [
      "c:\\Users\\shubu\\Desktop\\AutoGen Hardcode\\venv\\lib\\site-packages\\autogen_ext\\models\\openai\\_openai_client.py:413: UserWarning: Missing required field 'structured_output' in ModelInfo. This field will be required in a future version of AutoGen.\n",
      "  validate_model_info(self._model_info)\n"
     ]
    }
   ],
   "source": [
    "open_router_model_client =  OpenAIChatCompletionClient(\n",
    "    base_url=\"https://openrouter.ai/api/v1\",\n",
    "    model=\"deepseek/deepseek-chat-v3-0324:free\",\n",
    "    api_key = key,\n",
    "    model_info={\n",
    "        \"family\":'deepseek',\n",
    "        \"vision\" :True,\n",
    "        \"function_calling\":True,\n",
    "        \"json_output\": False\n",
    "    }\n",
    ")"
   ]
  },
  {
   "cell_type": "code",
   "execution_count": 4,
   "id": "689955e0",
   "metadata": {},
   "outputs": [],
   "source": [
    "async def web_search(query: str) -> str:\n",
    "    \"\"\"find info on the web\"\"\"\n",
    "    return \"dog has four legs two eyes one mouth one tail and two ears\""
   ]
  },
  {
   "cell_type": "code",
   "execution_count": 7,
   "id": "48c04d23",
   "metadata": {},
   "outputs": [],
   "source": [
    "agent = AssistantAgent(\n",
    "    name = 'assistant',\n",
    "    model_client = open_router_model_client,\n",
    "    tools = [web_search],\n",
    "    system_message = \"use tool to solve the task\"\n",
    ")"
   ]
  },
  {
   "cell_type": "code",
   "execution_count": 8,
   "id": "203705ed",
   "metadata": {},
   "outputs": [
    {
     "name": "stdout",
     "output_type": "stream",
     "text": [
      "dog has four legs two eyes one mouth one tail and two ears\n"
     ]
    }
   ],
   "source": [
    "result = await agent.run(task = \"find info about dog\")\n",
    "print(result.messages[-1].content)"
   ]
  },
  {
   "cell_type": "markdown",
   "id": "490f40e6",
   "metadata": {},
   "source": [
    "how to actually see that we have used tool above\n",
    "### on_messsage() method"
   ]
  },
  {
   "cell_type": "code",
   "execution_count": 15,
   "id": "ea192e14",
   "metadata": {},
   "outputs": [
    {
     "ename": "TypeError",
     "evalue": "'NoneType' object is not subscriptable",
     "output_type": "error",
     "traceback": [
      "\u001b[1;31m---------------------------------------------------------------------------\u001b[0m",
      "\u001b[1;31mTypeError\u001b[0m                                 Traceback (most recent call last)",
      "Cell \u001b[1;32mIn[15], line 13\u001b[0m\n\u001b[0;32m     10\u001b[0m     \u001b[38;5;28mprint\u001b[39m(\u001b[38;5;124m\"\u001b[39m\u001b[38;5;130;01m\\n\u001b[39;00m\u001b[38;5;130;01m\\n\u001b[39;00m\u001b[38;5;130;01m\\n\u001b[39;00m\u001b[38;5;124m\"\u001b[39m)\n\u001b[0;32m     11\u001b[0m     \u001b[38;5;28mprint\u001b[39m(response\u001b[38;5;241m.\u001b[39mchat_message) \u001b[38;5;66;03m# produced by agent as response\u001b[39;00m\n\u001b[1;32m---> 13\u001b[0m \u001b[38;5;28;01mawait\u001b[39;00m assistant_run()\n",
      "Cell \u001b[1;32mIn[15], line 4\u001b[0m, in \u001b[0;36massistant_run\u001b[1;34m()\u001b[0m\n\u001b[0;32m      3\u001b[0m \u001b[38;5;28;01masync\u001b[39;00m \u001b[38;5;28;01mdef\u001b[39;00m\u001b[38;5;250m \u001b[39m\u001b[38;5;21massistant_run\u001b[39m():\n\u001b[1;32m----> 4\u001b[0m     response \u001b[38;5;241m=\u001b[39m \u001b[38;5;28;01mawait\u001b[39;00m agent\u001b[38;5;241m.\u001b[39mon_messages(\n\u001b[0;32m      5\u001b[0m         messages \u001b[38;5;241m=\u001b[39m [TextMessage(content \u001b[38;5;241m=\u001b[39m \u001b[38;5;124m\"\u001b[39m\u001b[38;5;124mfind information about dog\u001b[39m\u001b[38;5;124m\"\u001b[39m, source \u001b[38;5;241m=\u001b[39m \u001b[38;5;124m'\u001b[39m\u001b[38;5;124mUser\u001b[39m\u001b[38;5;124m'\u001b[39m)],\n\u001b[0;32m      6\u001b[0m         cancellation_token \u001b[38;5;241m=\u001b[39m CancellationToken()\n\u001b[0;32m      7\u001b[0m     )\n\u001b[0;32m      9\u001b[0m     \u001b[38;5;28mprint\u001b[39m(response\u001b[38;5;241m.\u001b[39minner_message) \u001b[38;5;66;03m# produced by agent can be agent event\u001b[39;00m\n\u001b[0;32m     10\u001b[0m     \u001b[38;5;28mprint\u001b[39m(\u001b[38;5;124m\"\u001b[39m\u001b[38;5;130;01m\\n\u001b[39;00m\u001b[38;5;130;01m\\n\u001b[39;00m\u001b[38;5;130;01m\\n\u001b[39;00m\u001b[38;5;124m\"\u001b[39m)\n",
      "File \u001b[1;32mc:\\Users\\shubu\\Desktop\\AutoGen Hardcode\\venv\\lib\\site-packages\\autogen_agentchat\\agents\\_assistant_agent.py:782\u001b[0m, in \u001b[0;36mAssistantAgent.on_messages\u001b[1;34m(self, messages, cancellation_token)\u001b[0m\n\u001b[0;32m    781\u001b[0m \u001b[38;5;28;01masync\u001b[39;00m \u001b[38;5;28;01mdef\u001b[39;00m\u001b[38;5;250m \u001b[39m\u001b[38;5;21mon_messages\u001b[39m(\u001b[38;5;28mself\u001b[39m, messages: Sequence[BaseChatMessage], cancellation_token: CancellationToken) \u001b[38;5;241m-\u001b[39m\u001b[38;5;241m>\u001b[39m Response:\n\u001b[1;32m--> 782\u001b[0m     \u001b[38;5;28;01masync\u001b[39;00m \u001b[38;5;28;01mfor\u001b[39;00m message \u001b[38;5;129;01min\u001b[39;00m \u001b[38;5;28mself\u001b[39m\u001b[38;5;241m.\u001b[39mon_messages_stream(messages, cancellation_token):\n\u001b[0;32m    783\u001b[0m         \u001b[38;5;28;01mif\u001b[39;00m \u001b[38;5;28misinstance\u001b[39m(message, Response):\n\u001b[0;32m    784\u001b[0m             \u001b[38;5;28;01mreturn\u001b[39;00m message\n",
      "File \u001b[1;32mc:\\Users\\shubu\\Desktop\\AutoGen Hardcode\\venv\\lib\\site-packages\\autogen_agentchat\\agents\\_assistant_agent.py:827\u001b[0m, in \u001b[0;36mAssistantAgent.on_messages_stream\u001b[1;34m(self, messages, cancellation_token)\u001b[0m\n\u001b[0;32m    825\u001b[0m \u001b[38;5;66;03m# STEP 3: Run the first inference\u001b[39;00m\n\u001b[0;32m    826\u001b[0m model_result \u001b[38;5;241m=\u001b[39m \u001b[38;5;28;01mNone\u001b[39;00m\n\u001b[1;32m--> 827\u001b[0m \u001b[38;5;28;01masync\u001b[39;00m \u001b[38;5;28;01mfor\u001b[39;00m inference_output \u001b[38;5;129;01min\u001b[39;00m \u001b[38;5;28mself\u001b[39m\u001b[38;5;241m.\u001b[39m_call_llm(\n\u001b[0;32m    828\u001b[0m     model_client\u001b[38;5;241m=\u001b[39mmodel_client,\n\u001b[0;32m    829\u001b[0m     model_client_stream\u001b[38;5;241m=\u001b[39mmodel_client_stream,\n\u001b[0;32m    830\u001b[0m     system_messages\u001b[38;5;241m=\u001b[39msystem_messages,\n\u001b[0;32m    831\u001b[0m     model_context\u001b[38;5;241m=\u001b[39mmodel_context,\n\u001b[0;32m    832\u001b[0m     workbench\u001b[38;5;241m=\u001b[39mworkbench,\n\u001b[0;32m    833\u001b[0m     handoff_tools\u001b[38;5;241m=\u001b[39mhandoff_tools,\n\u001b[0;32m    834\u001b[0m     agent_name\u001b[38;5;241m=\u001b[39magent_name,\n\u001b[0;32m    835\u001b[0m     cancellation_token\u001b[38;5;241m=\u001b[39mcancellation_token,\n\u001b[0;32m    836\u001b[0m     output_content_type\u001b[38;5;241m=\u001b[39moutput_content_type,\n\u001b[0;32m    837\u001b[0m ):\n\u001b[0;32m    838\u001b[0m     \u001b[38;5;28;01mif\u001b[39;00m \u001b[38;5;28misinstance\u001b[39m(inference_output, CreateResult):\n\u001b[0;32m    839\u001b[0m         model_result \u001b[38;5;241m=\u001b[39m inference_output\n",
      "File \u001b[1;32mc:\\Users\\shubu\\Desktop\\AutoGen Hardcode\\venv\\lib\\site-packages\\autogen_agentchat\\agents\\_assistant_agent.py:955\u001b[0m, in \u001b[0;36mAssistantAgent._call_llm\u001b[1;34m(cls, model_client, model_client_stream, system_messages, model_context, workbench, handoff_tools, agent_name, cancellation_token, output_content_type)\u001b[0m\n\u001b[0;32m    953\u001b[0m     \u001b[38;5;28;01myield\u001b[39;00m model_result\n\u001b[0;32m    954\u001b[0m \u001b[38;5;28;01melse\u001b[39;00m:\n\u001b[1;32m--> 955\u001b[0m     model_result \u001b[38;5;241m=\u001b[39m \u001b[38;5;28;01mawait\u001b[39;00m model_client\u001b[38;5;241m.\u001b[39mcreate(\n\u001b[0;32m    956\u001b[0m         llm_messages,\n\u001b[0;32m    957\u001b[0m         tools\u001b[38;5;241m=\u001b[39mtools,\n\u001b[0;32m    958\u001b[0m         cancellation_token\u001b[38;5;241m=\u001b[39mcancellation_token,\n\u001b[0;32m    959\u001b[0m         json_output\u001b[38;5;241m=\u001b[39moutput_content_type,\n\u001b[0;32m    960\u001b[0m     )\n\u001b[0;32m    961\u001b[0m     \u001b[38;5;28;01myield\u001b[39;00m model_result\n",
      "File \u001b[1;32mc:\\Users\\shubu\\Desktop\\AutoGen Hardcode\\venv\\lib\\site-packages\\autogen_ext\\models\\openai\\_openai_client.py:653\u001b[0m, in \u001b[0;36mBaseOpenAIChatCompletionClient.create\u001b[1;34m(self, messages, tools, json_output, extra_create_args, cancellation_token)\u001b[0m\n\u001b[0;32m    645\u001b[0m         warnings\u001b[38;5;241m.\u001b[39mwarn(\n\u001b[0;32m    646\u001b[0m             \u001b[38;5;124mf\u001b[39m\u001b[38;5;124m\"\u001b[39m\u001b[38;5;124mResolved model mismatch: \u001b[39m\u001b[38;5;132;01m{\u001b[39;00m\u001b[38;5;28mself\u001b[39m\u001b[38;5;241m.\u001b[39m_resolved_model\u001b[38;5;132;01m}\u001b[39;00m\u001b[38;5;124m != \u001b[39m\u001b[38;5;132;01m{\u001b[39;00mresult\u001b[38;5;241m.\u001b[39mmodel\u001b[38;5;132;01m}\u001b[39;00m\u001b[38;5;124m. \u001b[39m\u001b[38;5;124m\"\u001b[39m\n\u001b[0;32m    647\u001b[0m             \u001b[38;5;124m\"\u001b[39m\u001b[38;5;124mModel mapping in autogen_ext.models.openai may be incorrect. \u001b[39m\u001b[38;5;124m\"\u001b[39m\n\u001b[0;32m    648\u001b[0m             \u001b[38;5;124mf\u001b[39m\u001b[38;5;124m\"\u001b[39m\u001b[38;5;124mSet the model to \u001b[39m\u001b[38;5;132;01m{\u001b[39;00mresult\u001b[38;5;241m.\u001b[39mmodel\u001b[38;5;132;01m}\u001b[39;00m\u001b[38;5;124m to enhance token/cost estimation and suppress this warning.\u001b[39m\u001b[38;5;124m\"\u001b[39m,\n\u001b[0;32m    649\u001b[0m             stacklevel\u001b[38;5;241m=\u001b[39m\u001b[38;5;241m2\u001b[39m,\n\u001b[0;32m    650\u001b[0m         )\n\u001b[0;32m    652\u001b[0m \u001b[38;5;66;03m# Limited to a single choice currently.\u001b[39;00m\n\u001b[1;32m--> 653\u001b[0m choice: Union[ParsedChoice[Any], ParsedChoice[BaseModel], Choice] \u001b[38;5;241m=\u001b[39m \u001b[43mresult\u001b[49m\u001b[38;5;241;43m.\u001b[39;49m\u001b[43mchoices\u001b[49m\u001b[43m[\u001b[49m\u001b[38;5;241;43m0\u001b[39;49m\u001b[43m]\u001b[49m\n\u001b[0;32m    655\u001b[0m \u001b[38;5;66;03m# Detect whether it is a function call or not.\u001b[39;00m\n\u001b[0;32m    656\u001b[0m \u001b[38;5;66;03m# We don't rely on choice.finish_reason as it is not always accurate, depending on the API used.\u001b[39;00m\n\u001b[0;32m    657\u001b[0m content: Union[\u001b[38;5;28mstr\u001b[39m, List[FunctionCall]]\n",
      "\u001b[1;31mTypeError\u001b[0m: 'NoneType' object is not subscriptable"
     ]
    }
   ],
   "source": [
    "from autogen_core import CancellationToken #A CancellationToken lets you politely tell a running AutoGen task “please stop now,” and the task checks the token at safe points to abort cleanly. It’s like a cooperative “stop” flag for long‑running async operations.\n",
    "\n",
    "async def assistant_run():\n",
    "    response = await agent.on_messages(\n",
    "        messages = [TextMessage(content = \"find information about dog\", source = 'User')],\n",
    "        cancellation_token = CancellationToken()\n",
    "    )\n",
    "\n",
    "    print(response.inner_message) # produced by agent can be agent event\n",
    "    print(\"\\n\\n\\n\")\n",
    "    print(response.chat_message) # produced by agent as response\n",
    "\n",
    "await assistant_run()"
   ]
  },
  {
   "cell_type": "markdown",
   "id": "1aff53fc",
   "metadata": {},
   "source": [
    "### streammint messages\n",
    "#### on_messages_stream()"
   ]
  },
  {
   "cell_type": "code",
   "execution_count": 20,
   "id": "097bfe82",
   "metadata": {},
   "outputs": [
    {
     "ename": "RuntimeError",
     "evalue": "asyncio.run() cannot be called from a running event loop",
     "output_type": "error",
     "traceback": [
      "\u001b[1;31m---------------------------------------------------------------------------\u001b[0m",
      "\u001b[1;31mRuntimeError\u001b[0m                              Traceback (most recent call last)",
      "Cell \u001b[1;32mIn[20], line 26\u001b[0m\n\u001b[0;32m     20\u001b[0m     \u001b[38;5;28;01mawait\u001b[39;00m Console(\n\u001b[0;32m     21\u001b[0m         stream,            \u001b[38;5;66;03m# the async iterator\u001b[39;00m\n\u001b[0;32m     22\u001b[0m         output_stats\u001b[38;5;241m=\u001b[39m\u001b[38;5;28;01mTrue\u001b[39;00m  \u001b[38;5;66;03m# show per‑chunk timing/stats\u001b[39;00m\n\u001b[0;32m     23\u001b[0m     )\n\u001b[0;32m     25\u001b[0m \u001b[38;5;66;03m# 4. Run it\u001b[39;00m\n\u001b[1;32m---> 26\u001b[0m \u001b[43masyncio\u001b[49m\u001b[38;5;241;43m.\u001b[39;49m\u001b[43mrun\u001b[49m\u001b[43m(\u001b[49m\u001b[43massistant_run_stream\u001b[49m\u001b[43m(\u001b[49m\u001b[43m)\u001b[49m\u001b[43m)\u001b[49m\n",
      "File \u001b[1;32m~\\anaconda3\\lib\\asyncio\\runners.py:33\u001b[0m, in \u001b[0;36mrun\u001b[1;34m(main, debug)\u001b[0m\n\u001b[0;32m      9\u001b[0m \u001b[38;5;250m\u001b[39m\u001b[38;5;124;03m\"\"\"Execute the coroutine and return the result.\u001b[39;00m\n\u001b[0;32m     10\u001b[0m \n\u001b[0;32m     11\u001b[0m \u001b[38;5;124;03mThis function runs the passed coroutine, taking care of\u001b[39;00m\n\u001b[1;32m   (...)\u001b[0m\n\u001b[0;32m     30\u001b[0m \u001b[38;5;124;03m    asyncio.run(main())\u001b[39;00m\n\u001b[0;32m     31\u001b[0m \u001b[38;5;124;03m\"\"\"\u001b[39;00m\n\u001b[0;32m     32\u001b[0m \u001b[38;5;28;01mif\u001b[39;00m events\u001b[38;5;241m.\u001b[39m_get_running_loop() \u001b[38;5;129;01mis\u001b[39;00m \u001b[38;5;129;01mnot\u001b[39;00m \u001b[38;5;28;01mNone\u001b[39;00m:\n\u001b[1;32m---> 33\u001b[0m     \u001b[38;5;28;01mraise\u001b[39;00m \u001b[38;5;167;01mRuntimeError\u001b[39;00m(\n\u001b[0;32m     34\u001b[0m         \u001b[38;5;124m\"\u001b[39m\u001b[38;5;124masyncio.run() cannot be called from a running event loop\u001b[39m\u001b[38;5;124m\"\u001b[39m)\n\u001b[0;32m     36\u001b[0m \u001b[38;5;28;01mif\u001b[39;00m \u001b[38;5;129;01mnot\u001b[39;00m coroutines\u001b[38;5;241m.\u001b[39miscoroutine(main):\n\u001b[0;32m     37\u001b[0m     \u001b[38;5;28;01mraise\u001b[39;00m \u001b[38;5;167;01mValueError\u001b[39;00m(\u001b[38;5;124m\"\u001b[39m\u001b[38;5;124ma coroutine was expected, got \u001b[39m\u001b[38;5;132;01m{!r}\u001b[39;00m\u001b[38;5;124m\"\u001b[39m\u001b[38;5;241m.\u001b[39mformat(main))\n",
      "\u001b[1;31mRuntimeError\u001b[0m: asyncio.run() cannot be called from a running event loop"
     ]
    }
   ],
   "source": [
    "import asyncio\n",
    "from autogen_core import CancellationToken\n",
    "\n",
    "from autogen_agentchat.ui import Console\n",
    "\n",
    "async def assistant_run_stream() -> None:\n",
    "    # 1. Build a valid user message (source must be exactly \"user\")\n",
    "    user_msg = TextMessage(\n",
    "        content=\"Find information about Labrador Retriever via the tool\",\n",
    "        source=\"user\"     # ← lowercase\n",
    "    )\n",
    "\n",
    "    # 2. Kick off the streaming call\n",
    "    stream = agent.on_messages_stream(\n",
    "        messages=[user_msg],\n",
    "        cancellation_token=CancellationToken()\n",
    "    )\n",
    "\n",
    "    # 3. Pass the stream into Console for auto‑printing\n",
    "    await Console(\n",
    "        stream,            # the async iterator\n",
    "        output_stats=True  # show per‑chunk timing/stats\n",
    "    )\n",
    "\n",
    "# 4. Run it\n",
    "asyncio.run(assistant_run_stream())\n"
   ]
  }
 ],
 "metadata": {
  "kernelspec": {
   "display_name": "venv",
   "language": "python",
   "name": "python3"
  },
  "language_info": {
   "codemirror_mode": {
    "name": "ipython",
    "version": 3
   },
   "file_extension": ".py",
   "mimetype": "text/x-python",
   "name": "python",
   "nbconvert_exporter": "python",
   "pygments_lexer": "ipython3",
   "version": "3.10.9"
  }
 },
 "nbformat": 4,
 "nbformat_minor": 5
}
