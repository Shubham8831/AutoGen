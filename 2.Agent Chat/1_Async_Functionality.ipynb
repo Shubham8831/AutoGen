{
 "cells": [
  {
   "cell_type": "markdown",
   "id": "f5fcb761",
   "metadata": {},
   "source": [
    "### normal flow"
   ]
  },
  {
   "cell_type": "code",
   "execution_count": 1,
   "id": "99a658a3",
   "metadata": {},
   "outputs": [
    {
     "name": "stdout",
     "output_type": "stream",
     "text": [
      "Brewing Coffee\n",
      "Coffee Ready\n",
      "Toasting Bagel\n",
      "Bagel Ready\n",
      "Time : 5.01 minutes\n"
     ]
    }
   ],
   "source": [
    "import time\n",
    "def brew_coffee():\n",
    "    print(\"Brewing Coffee\")\n",
    "    time.sleep(3) # 3 Minutes\n",
    "    print(\"Coffee Ready\")\n",
    "\n",
    "def toast_bagel():\n",
    "    print(\"Toasting Bagel\")\n",
    "    time.sleep(2) # 2 Minutes\n",
    "    print(\"Bagel Ready\")\n",
    "\n",
    "\n",
    "def main():\n",
    "    start = time.time()\n",
    "\n",
    "    coffee = brew_coffee()\n",
    "    # time.sleep(2)\n",
    "    bagel = toast_bagel()\n",
    "\n",
    "    end = time.time()\n",
    "\n",
    "\n",
    "    print(f\"Time : {end - start:.2f} minutes\")\n",
    "\n",
    "main()"
   ]
  },
  {
   "cell_type": "markdown",
   "id": "4a29fc5c",
   "metadata": {},
   "source": [
    "### Asynchronous Version"
   ]
  },
  {
   "cell_type": "code",
   "execution_count": null,
   "id": "dc318179",
   "metadata": {},
   "outputs": [],
   "source": [
    "import asyncio\n",
    "import time\n",
    "\n",
    "async def brew_coffee():\n",
    "    print(\"Starting Brewing Coffee\")\n",
    "    await asyncio.sleep(3)\n",
    "    print(\"Coffee Ready\")\n",
    "\n",
    "async def toast_bagel():\n",
    "    print(\"Start Toasting bagel\")\n",
    "    await asyncio.sleep(2)\n",
    "    print(\"Bagel Ready\")\n",
    "\n",
    "\n",
    "async def main():\n",
    "    start = time.time()\n",
    "\n",
    "    coffee = brew_coffee()\n",
    "    bagel = toast_bagel()\n",
    "\n",
    "    results = await asyncio.gather(coffee,bagel)\n",
    "\n",
    "    end = time.time()\n",
    "\n",
    "    print(f\"Time : {end - start:.2f} minutes\")\n",
    "\n",
    "\n",
    "await main()"
   ]
  },
  {
   "cell_type": "markdown",
   "id": "f46f0502",
   "metadata": {},
   "source": [
    "### with task"
   ]
  },
  {
   "cell_type": "code",
   "execution_count": null,
   "id": "e706ab3d",
   "metadata": {},
   "outputs": [],
   "source": [
    "import asyncio\n",
    "import time\n",
    "\n",
    "async def brew_coffee_async():\n",
    "    print(\"Starting Brewing Coffee\")\n",
    "    await asyncio.sleep(3)\n",
    "    print(\"Coffee Ready\")\n",
    "\n",
    "async def toast_bagel_async():\n",
    "    print(\"Start Toasting bagel\")\n",
    "    await asyncio.sleep(2)\n",
    "    print(\"Bagel Ready\")\n",
    "\n",
    "async def main_individual():\n",
    "    start = time.time()\n",
    "    coffee_task = asyncio.create_task(brew_coffee_async())\n",
    "    bagel_task = asyncio.create_task(toast_bagel_async())\n",
    "\n",
    "    coffee = await coffee_task\n",
    "    bagel = await bagel_task\n",
    "\n",
    "    end = time.time()\n",
    "    print(f\"Time : {end - start:.2f} minutes\")\n",
    "\n",
    "\n",
    "await (main_individual())\n",
    "\n"
   ]
  }
 ],
 "metadata": {
  "kernelspec": {
   "display_name": "venv",
   "language": "python",
   "name": "python3"
  },
  "language_info": {
   "codemirror_mode": {
    "name": "ipython",
    "version": 3
   },
   "file_extension": ".py",
   "mimetype": "text/x-python",
   "name": "python",
   "nbconvert_exporter": "python",
   "pygments_lexer": "ipython3",
   "version": "3.10.9"
  }
 },
 "nbformat": 4,
 "nbformat_minor": 5
}
