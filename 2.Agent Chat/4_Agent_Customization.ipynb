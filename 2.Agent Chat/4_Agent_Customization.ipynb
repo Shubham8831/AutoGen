{
 "cells": [
  {
   "cell_type": "code",
   "execution_count": null,
   "id": "77989a8f",
   "metadata": {},
   "outputs": [],
   "source": [
    "from autogen_agentchat.agents import AssistantAgent\n",
    "from autogen_ext.models.openai import OpenAIChatCompletionClient\n",
    "from dotenv import load_dotenv\n",
    "import asyncio\n",
    "import os\n",
    "load_dotenv()\n",
    "key = os.getenv(\"OPEN_ROUTER_API_KEY\")"
   ]
  },
  {
   "cell_type": "code",
   "execution_count": 13,
   "id": "806dbaf4",
   "metadata": {},
   "outputs": [],
   "source": [
    "api_key = \"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\""
   ]
  },
  {
   "cell_type": "code",
   "execution_count": 14,
   "id": "c57ad595",
   "metadata": {},
   "outputs": [],
   "source": [
    "open_router_model_client =  OpenAIChatCompletionClient(\n",
    "    base_url=\"https://openrouter.ai/api/v1\",\n",
    "    model=\"deepseek/deepseek-chat-v3-0324:free\",\n",
    "    api_key = api_key,\n",
    "    model_info={\n",
    "        \"family\":'deepseek',\n",
    "        \"vision\" :True,\n",
    "        \"function_calling\":True,\n",
    "        \"json_output\": False\n",
    "    }\n",
    ")"
   ]
  },
  {
   "cell_type": "markdown",
   "id": "f61cadd1",
   "metadata": {},
   "source": [
    "### Agent Customization\n",
    "\n",
    "- We can assign role to our agent\n",
    "- help in fitting agent to specific use case\n"
   ]
  },
  {
   "cell_type": "code",
   "execution_count": 15,
   "id": "7cf144e8",
   "metadata": {},
   "outputs": [],
   "source": [
    "assistant = AssistantAgent(\n",
    "    name = \"physics_expert\",\n",
    "    model_client=open_router_model_client,\n",
    "    description=\"Knowledge assistant with expertise in physics\",\n",
    "    system_message=\"you are a physics expert with knowledge of physics. provide simple words yet detailed answer about physics\"\n",
    "\n",
    ")"
   ]
  },
  {
   "cell_type": "markdown",
   "id": "9bccfe4c",
   "metadata": {},
   "source": [
    "### Test physics expert"
   ]
  },
  {
   "cell_type": "code",
   "execution_count": 16,
   "id": "8aa7d593",
   "metadata": {},
   "outputs": [],
   "source": [
    "async def test_expert():\n",
    "    result = await assistant.run(task=\"explain schrodinger wave equation.\")\n",
    "    print(result.messages[-1].content)"
   ]
  },
  {
   "cell_type": "code",
   "execution_count": 17,
   "id": "9b56f9e8",
   "metadata": {},
   "outputs": [
    {
     "name": "stdout",
     "output_type": "stream",
     "text": [
      "Certainly! The **Schrödinger wave equation** is one of the most important equations in quantum mechanics. It describes how the quantum state (wave function, **Ψ**) of a particle changes over time in a given potential (like an atom or electric field). \n",
      "\n",
      "Here’s a simple breakdown:\n",
      "\n",
      "### **What Does It Do?**\n",
      "It tells us:\n",
      "1. **Where a particle is likely to be found** (via the wave function, Ψ).\n",
      "2. **How its behavior changes** (due to forces like gravity or electric fields).\n",
      "\n",
      "### **Time-Dependent Schrödinger Equation (TDSE)**\n",
      "The most general form is:\n",
      "\\[ i\\hbar \\frac{\\partial \\Psi}{\\partial t} = \\hat{H} \\Psi \\]\n",
      "\n",
      "Where:\n",
      "- \\( \\Psi \\) = Quantum wave function (describes the particle’s state).\n",
      "- \\( i \\) = Imaginary unit (√−1).\n",
      "- \\( \\hbar \\) = Reduced Planck constant (tiny number in quantum physics).\n",
      "- \\( \\hat{H} \\) = Hamiltonian operator (represents total energy: kinetic + potential).\n",
      "\n",
      "### **Time-Independent Schrödinger Equation (TISE)**\n",
      "For stable systems (no time change):\n",
      "\\[ \\hat{H} \\Psi = E \\Psi \\]\n",
      "- \\( E \\) = Allowed energy levels (like electron orbits in an atom).\n",
      "\n",
      "### **Key Idea**\n",
      "- The equation gives **probabilities**, not exact paths (unlike classical physics).\n",
      "- \\( |\\Psi|^2 \\) tells us the **probability density** of finding a particle somewhere.\n",
      "\n",
      "### **Example (Electron in an Atom)**\n",
      "The wave function Ψ describes where an electron is likely to be in an atom (e.g., electron \"cloud\" orbitals).\n",
      "\n",
      "### **Why Is It Important?**\n",
      "- Explains atomic/molecular behavior.\n",
      "- Basis for lasers, transistors, and quantum computing.\n",
      "\n",
      "### **Conclusion**\n",
      "Schrödinger’s equation is the **\"F = ma\" of quantum mechanics**, but instead of exact paths, it tells us **probabilities and energy states** of particles. \n",
      "\n",
      "Would you like a simple analogy or example to understand it better?\n"
     ]
    }
   ],
   "source": [
    "await test_expert()"
   ]
  },
  {
   "cell_type": "markdown",
   "id": "14b2cbeb",
   "metadata": {},
   "source": []
  }
 ],
 "metadata": {
  "kernelspec": {
   "display_name": "venv",
   "language": "python",
   "name": "python3"
  },
  "language_info": {
   "codemirror_mode": {
    "name": "ipython",
    "version": 3
   },
   "file_extension": ".py",
   "mimetype": "text/x-python",
   "name": "python",
   "nbconvert_exporter": "python",
   "pygments_lexer": "ipython3",
   "version": "3.10.9"
  }
 },
 "nbformat": 4,
 "nbformat_minor": 5
}
